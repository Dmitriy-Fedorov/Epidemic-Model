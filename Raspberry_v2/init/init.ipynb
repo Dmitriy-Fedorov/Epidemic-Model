{
 "cells": [
  {
   "cell_type": "code",
   "execution_count": 1,
   "metadata": {},
   "outputs": [],
   "source": [
    "import paho.mqtt.client as paho\n",
    "import numpy as np\n",
    "import random\n",
    "import json\n",
    "import networkx as nx\n",
    "from node import EpidemicGraph, TransitionDiagram, calc_R0\n",
    "import matplotlib.pyplot as plt\n",
    "import matplotlib.patches as mpatches\n",
    "from datetime import datetime\n",
    "# %matplotlib inline"
   ]
  },
  {
   "cell_type": "code",
   "execution_count": 2,
   "metadata": {},
   "outputs": [],
   "source": [
    "broker_ip = '192.168.0.104'\n",
    "broker_ip = 'localhost'\n",
    "connflag = False"
   ]
  },
  {
   "cell_type": "code",
   "execution_count": 3,
   "metadata": {},
   "outputs": [],
   "source": [
    "def plot(G, title='step_1'):\n",
    "    pos = nx.get_node_attributes(G, 'position')\n",
    "    ids = {i:i for i in range(N)}\n",
    "\n",
    "\n",
    "    s_a = [x for x,y in G.nodes(data=True) if y['state']=='S_a']\n",
    "    s_s = [x for x,y in G.nodes(data=True) if y['state']=='S_s']\n",
    "    i1_a = [x for x,y in G.nodes(data=True) if y['state']=='I1_a']\n",
    "    i1_s = [x for x,y in G.nodes(data=True) if y['state']=='I1_s']\n",
    "    i2_a = [x for x,y in G.nodes(data=True) if y['state']=='I2_a']\n",
    "    i2_s = [x for x,y in G.nodes(data=True) if y['state']=='I2_s']\n",
    "\n",
    "\n",
    "    fig = plt.figure(figsize=(5, 5))\n",
    "    nx.draw_networkx_edges(G, pos, alpha=0.8)\n",
    "    nx.draw_networkx_nodes(G, pos, node_size=1000, nodelist=s_a, node_color='#66ff99')\n",
    "    nx.draw_networkx_nodes(G, pos, node_size=1000, nodelist=s_s, node_color='#006600')\n",
    "    nx.draw_networkx_nodes(G, pos, node_size=1000, nodelist=i1_a, node_color='#ff6666')\n",
    "    nx.draw_networkx_nodes(G, pos, node_size=1000, nodelist=i1_s, node_color='#cc0000')\n",
    "    nx.draw_networkx_nodes(G, pos, node_size=1000, nodelist=i2_a, node_color='#3399ff')\n",
    "    nx.draw_networkx_nodes(G, pos, node_size=1000, nodelist=i2_s, node_color='#0000cc')\n",
    "    nx.draw_networkx_labels(G, pos, ids, font_size=12)\n",
    "\n",
    "    plt.title(title)\n",
    "    red_patch = mpatches.Patch(color='red', label='I1')\n",
    "    blue_patch = mpatches.Patch(color='blue', label='I2')\n",
    "    green_patch = mpatches.Patch(color='green', label='S')\n",
    "    plt.legend(handles=[green_patch, red_patch, blue_patch])\n",
    "    plt.xlim(0, 2)\n",
    "    plt.ylim(0, 2)\n",
    "    return plt, fig"
   ]
  },
  {
   "cell_type": "code",
   "execution_count": 4,
   "metadata": {},
   "outputs": [
    {
     "data": {
      "text/plain": [
       "(0, 1)"
      ]
     },
     "execution_count": 4,
     "metadata": {},
     "output_type": "execute_result"
    },
    {
     "name": "stdout",
     "output_type": "stream",
     "text": [
      "Connection returned result: 0\n"
     ]
    }
   ],
   "source": [
    "mqttc = paho.Client()\n",
    "counter = 0\n",
    "def on_connect(client, userdata, flags, rc):\n",
    "    global connflag\n",
    "    #if connection is successful, rc value will be 0\n",
    "    print(\"Connection returned result: \" + str(rc) )\n",
    "    connflag = True\n",
    "\n",
    "def on_message(client, userdata, msg): \n",
    "    print(\"-t {} | -p {}\".format(msg.topic, msg.payload.decode()) )\n",
    "    \n",
    "def on_state(client, userdata, msg): \n",
    "    global G, counter\n",
    "    counter += 1\n",
    "    format_date = \"%d %b %Y %H%M%S.%f\"\n",
    "    name = datetime.now().strftime(format_date)\n",
    "    js = json.loads(msg.payload.decode())\n",
    "    G.node[js['id']]['state'] = js['state']\n",
    "    if counter%5 == 0:\n",
    "        plt, fig = plot(G, 'step {}'.format((counter-1)//5))\n",
    "        fig.savefig('figures/{}.png'.format(name))\n",
    "        plt.close()\n",
    "    print(\"-t {} | -p {}\".format(msg.topic, msg.payload.decode()) )\n",
    "    \n",
    "mqttc.on_connect = on_connect\n",
    "mqttc.on_message = on_message\n",
    "mqttc.message_callback_add(\"state\", on_state)\n",
    "\n",
    "mqttc.connect(broker_ip)\n",
    "mqttc.loop_start()\n",
    "mqttc.subscribe('state', 2)"
   ]
  },
  {
   "cell_type": "code",
   "execution_count": null,
   "metadata": {},
   "outputs": [],
   "source": [
    "mqttc.loop_stop()"
   ]
  },
  {
   "cell_type": "code",
   "execution_count": null,
   "metadata": {},
   "outputs": [],
   "source": [
    "mqttc.publish('stop', 'dummy_msg')"
   ]
  },
  {
   "cell_type": "code",
   "execution_count": 8,
   "metadata": {},
   "outputs": [
    {
     "data": {
      "text/plain": [
       "<paho.mqtt.client.MQTTMessageInfo at 0x1e172347f98>"
      ]
     },
     "execution_count": 8,
     "metadata": {},
     "output_type": "execute_result"
    },
    {
     "name": "stdout",
     "output_type": "stream",
     "text": [
      "-t state | -p {\"step\": 0, \"id\": 1, \"state\": \"I1_a\"}\n",
      "-t state | -p {\"step\": 0, \"id\": 4, \"state\": \"I2_a\"}\n",
      "-t state | -p {\"step\": 0, \"id\": 3, \"state\": \"S_a\"}\n",
      "-t state | -p {\"step\": 0, \"id\": 0, \"state\": \"S_a\"}\n",
      "-t state | -p {\"step\": 0, \"id\": 2, \"state\": \"S_a\"}\n",
      "-t state | -p {\"step\": 1, \"id\": 1, \"state\": \"I1_a\"}\n",
      "-t state | -p {\"step\": 1, \"id\": 4, \"state\": \"I2_a\"}\n",
      "-t state | -p {\"step\": 1, \"id\": 3, \"state\": \"S_s\"}\n",
      "-t state | -p {\"step\": 1, \"id\": 0, \"state\": \"I2_a\"}\n",
      "-t state | -p {\"step\": 1, \"id\": 2, \"state\": \"S_a\"}\n",
      "-t state | -p {\"step\": 2, \"id\": 1, \"state\": \"I1_a\"}\n",
      "-t state | -p {\"step\": 2, \"id\": 4, \"state\": \"S_a\"}\n",
      "-t state | -p {\"step\": 2, \"id\": 3, \"state\": \"S_s\"}\n",
      "-t state | -p {\"step\": 2, \"id\": 0, \"state\": \"I2_a\"}\n",
      "-t state | -p {\"step\": 2, \"id\": 2, \"state\": \"S_s\"}\n",
      "-t state | -p {\"step\": 3, \"id\": 1, \"state\": \"I1_a\"}\n",
      "-t state | -p {\"step\": 3, \"id\": 4, \"state\": \"I2_a\"}\n",
      "-t state | -p {\"step\": 3, \"id\": 3, \"state\": \"S_a\"}\n",
      "-t state | -p {\"step\": 3, \"id\": 0, \"state\": \"I2_a\"}\n",
      "-t state | -p {\"step\": 3, \"id\": 2, \"state\": \"S_a\"}\n",
      "-t state | -p {\"step\": 4, \"id\": 1, \"state\": \"I1_a\"}\n",
      "-t state | -p {\"step\": 4, \"id\": 4, \"state\": \"I2_s\"}\n",
      "-t state | -p {\"step\": 4, \"id\": 3, \"state\": \"S_a\"}\n",
      "-t state | -p {\"step\": 4, \"id\": 0, \"state\": \"I2_s\"}\n",
      "-t state | -p {\"step\": 4, \"id\": 2, \"state\": \"S_s\"}\n",
      "-t state | -p {\"step\": 5, \"id\": 1, \"state\": \"I1_s\"}\n",
      "-t state | -p {\"step\": 5, \"id\": 4, \"state\": \"I2_a\"}\n",
      "-t state | -p {\"step\": 5, \"id\": 3, \"state\": \"S_a\"}\n",
      "-t state | -p {\"step\": 5, \"id\": 0, \"state\": \"I2_a\"}\n",
      "-t state | -p {\"step\": 5, \"id\": 2, \"state\": \"S_a\"}\n",
      "-t state | -p {\"step\": 6, \"id\": 1, \"state\": \"I1_a\"}\n",
      "-t state | -p {\"step\": 6, \"id\": 4, \"state\": \"I2_a\"}\n",
      "-t state | -p {\"step\": 6, \"id\": 3, \"state\": \"I2_a\"}\n",
      "-t state | -p {\"step\": 6, \"id\": 0, \"state\": \"I2_s\"}\n",
      "-t state | -p {\"step\": 6, \"id\": 2, \"state\": \"S_a\"}\n",
      "-t state | -p {\"step\": 7, \"id\": 1, \"state\": \"I1_s\"}\n",
      "-t state | -p {\"step\": 7, \"id\": 4, \"state\": \"I2_a\"}\n",
      "-t state | -p {\"step\": 7, \"id\": 3, \"state\": \"I2_a\"}\n",
      "-t state | -p {\"step\": 7, \"id\": 0, \"state\": \"I2_a\"}\n",
      "-t state | -p {\"step\": 7, \"id\": 2, \"state\": \"S_s\"}\n",
      "-t state | -p {\"step\": 8, \"id\": 1, \"state\": \"I1_a\"}\n",
      "-t state | -p {\"step\": 8, \"id\": 4, \"state\": \"I2_a\"}\n",
      "-t state | -p {\"step\": 8, \"id\": 3, \"state\": \"I2_s\"}\n",
      "-t state | -p {\"step\": 8, \"id\": 0, \"state\": \"I2_a\"}\n",
      "-t state | -p {\"step\": 8, \"id\": 2, \"state\": \"S_s\"}\n",
      "-t state | -p {\"step\": 9, \"id\": 1, \"state\": \"I1_a\"}\n",
      "-t state | -p {\"step\": 9, \"id\": 4, \"state\": \"I2_a\"}\n",
      "-t state | -p {\"step\": 9, \"id\": 3, \"state\": \"I2_a\"}\n",
      "-t state | -p {\"step\": 9, \"id\": 0, \"state\": \"S_a\"}\n",
      "-t state | -p {\"step\": 9, \"id\": 2, \"state\": \"S_s\"}\n",
      "-t state | -p {\"step\": 10, \"id\": 1, \"state\": \"I1_a\"}\n",
      "-t state | -p {\"step\": 10, \"id\": 4, \"state\": \"I2_a\"}\n",
      "-t state | -p {\"step\": 10, \"id\": 3, \"state\": \"I2_a\"}\n",
      "-t state | -p {\"step\": 10, \"id\": 0, \"state\": \"I1_a\"}\n",
      "-t state | -p {\"step\": 10, \"id\": 2, \"state\": \"S_s\"}\n",
      "-t state | -p {\"step\": 11, \"id\": 1, \"state\": \"I1_a\"}\n",
      "-t state | -p {\"step\": 11, \"id\": 4, \"state\": \"I2_a\"}\n",
      "-t state | -p {\"step\": 11, \"id\": 3, \"state\": \"S_a\"}\n",
      "-t state | -p {\"step\": 11, \"id\": 0, \"state\": \"I1_a\"}\n",
      "-t state | -p {\"step\": 11, \"id\": 2, \"state\": \"S_s\"}\n",
      "-t state | -p {\"step\": 12, \"id\": 1, \"state\": \"I1_a\"}\n",
      "-t state | -p {\"step\": 12, \"id\": 4, \"state\": \"I2_a\"}\n",
      "-t state | -p {\"step\": 12, \"id\": 3, \"state\": \"S_s\"}\n",
      "-t state | -p {\"step\": 12, \"id\": 0, \"state\": \"S_a\"}\n",
      "-t state | -p {\"step\": 12, \"id\": 2, \"state\": \"S_s\"}\n",
      "-t state | -p {\"step\": 13, \"id\": 1, \"state\": \"I1_a\"}\n",
      "-t state | -p {\"step\": 13, \"id\": 4, \"state\": \"I2_s\"}\n",
      "-t state | -p {\"step\": 13, \"id\": 3, \"state\": \"S_a\"}\n",
      "-t state | -p {\"step\": 13, \"id\": 0, \"state\": \"I2_a\"}\n",
      "-t state | -p {\"step\": 13, \"id\": 2, \"state\": \"S_a\"}\n",
      "-t state | -p {\"step\": 14, \"id\": 1, \"state\": \"I1_s\"}\n",
      "-t state | -p {\"step\": 14, \"id\": 4, \"state\": \"I2_a\"}\n",
      "-t state | -p {\"step\": 14, \"id\": 3, \"state\": \"S_a\"}\n",
      "-t state | -p {\"step\": 14, \"id\": 0, \"state\": \"I2_s\"}\n",
      "-t state | -p {\"step\": 14, \"id\": 2, \"state\": \"S_s\"}\n",
      "-t state | -p {\"step\": 15, \"id\": 1, \"state\": \"I1_a\"}\n",
      "-t state | -p {\"step\": 15, \"id\": 4, \"state\": \"I2_a\"}\n",
      "-t state | -p {\"step\": 15, \"id\": 3, \"state\": \"I2_a\"}\n",
      "-t state | -p {\"step\": 15, \"id\": 0, \"state\": \"I2_s\"}\n",
      "-t state | -p {\"step\": 15, \"id\": 2, \"state\": \"S_s\"}\n",
      "-t state | -p {\"step\": 16, \"id\": 1, \"state\": \"I1_s\"}\n",
      "-t state | -p {\"step\": 16, \"id\": 4, \"state\": \"I2_a\"}\n",
      "-t state | -p {\"step\": 16, \"id\": 3, \"state\": \"I2_a\"}\n",
      "-t state | -p {\"step\": 16, \"id\": 0, \"state\": \"I2_a\"}\n",
      "-t state | -p {\"step\": 16, \"id\": 2, \"state\": \"S_s\"}\n",
      "-t state | -p {\"step\": 17, \"id\": 1, \"state\": \"I1_s\"}\n",
      "-t state | -p {\"step\": 17, \"id\": 4, \"state\": \"I2_a\"}\n",
      "-t state | -p {\"step\": 17, \"id\": 3, \"state\": \"I2_a\"}\n",
      "-t state | -p {\"step\": 17, \"id\": 0, \"state\": \"I2_a\"}\n",
      "-t state | -p {\"step\": 17, \"id\": 2, \"state\": \"S_s\"}\n",
      "-t state | -p {\"step\": 18, \"id\": 1, \"state\": \"I1_s\"}\n",
      "-t state | -p {\"step\": 18, \"id\": 4, \"state\": \"I2_a\"}\n",
      "-t state | -p {\"step\": 18, \"id\": 3, \"state\": \"I2_a\"}\n",
      "-t state | -p {\"step\": 18, \"id\": 0, \"state\": \"I2_a\"}\n",
      "-t state | -p {\"step\": 18, \"id\": 2, \"state\": \"S_s\"}\n",
      "-t state | -p {\"step\": 19, \"id\": 1, \"state\": \"I1_s\"}\n",
      "-t state | -p {\"step\": 19, \"id\": 4, \"state\": \"I2_a\"}\n",
      "-t state | -p {\"step\": 19, \"id\": 3, \"state\": \"I2_a\"}\n",
      "-t state | -p {\"step\": 19, \"id\": 0, \"state\": \"I2_a\"}\n",
      "-t state | -p {\"step\": 19, \"id\": 2, \"state\": \"S_s\"}\n",
      "-t state | -p {\"step\": 20, \"id\": 1, \"state\": \"I1_a\"}\n",
      "-t state | -p {\"step\": 20, \"id\": 4, \"state\": \"I2_s\"}\n",
      "-t state | -p {\"step\": 20, \"id\": 3, \"state\": \"I2_a\"}\n",
      "-t state | -p {\"step\": 20, \"id\": 0, \"state\": \"I2_a\"}\n",
      "-t state | -p {\"step\": 20, \"id\": 2, \"state\": \"S_s\"}\n",
      "-t state | -p {\"step\": 21, \"id\": 1, \"state\": \"I1_s\"}\n",
      "-t state | -p {\"step\": 21, \"id\": 4, \"state\": \"I2_a\"}\n",
      "-t state | -p {\"step\": 21, \"id\": 3, \"state\": \"I2_a\"}\n",
      "-t state | -p {\"step\": 21, \"id\": 0, \"state\": \"I2_s\"}\n",
      "-t state | -p {\"step\": 21, \"id\": 2, \"state\": \"S_s\"}\n",
      "-t state | -p {\"step\": 22, \"id\": 1, \"state\": \"I1_a\"}\n",
      "-t state | -p {\"step\": 22, \"id\": 4, \"state\": \"I2_s\"}\n",
      "-t state | -p {\"step\": 22, \"id\": 3, \"state\": \"S_a\"}\n",
      "-t state | -p {\"step\": 22, \"id\": 0, \"state\": \"I2_s\"}\n",
      "-t state | -p {\"step\": 22, \"id\": 2, \"state\": \"S_s\"}\n",
      "-t state | -p {\"step\": 23, \"id\": 1, \"state\": \"I1_a\"}\n",
      "-t state | -p {\"step\": 23, \"id\": 4, \"state\": \"I2_a\"}\n",
      "-t state | -p {\"step\": 23, \"id\": 3, \"state\": \"S_a\"}\n",
      "-t state | -p {\"step\": 23, \"id\": 0, \"state\": \"I2_s\"}\n",
      "-t state | -p {\"step\": 23, \"id\": 2, \"state\": \"S_s\"}\n",
      "-t state | -p {\"step\": 24, \"id\": 1, \"state\": \"I1_a\"}\n",
      "-t state | -p {\"step\": 24, \"id\": 4, \"state\": \"I2_a\"}\n",
      "-t state | -p {\"step\": 24, \"id\": 3, \"state\": \"S_s\"}\n",
      "-t state | -p {\"step\": 24, \"id\": 0, \"state\": \"I2_s\"}\n",
      "-t state | -p {\"step\": 24, \"id\": 2, \"state\": \"S_a\"}\n",
      "-t state | -p {\"step\": 25, \"id\": 1, \"state\": \"I1_s\"}\n",
      "-t state | -p {\"step\": 25, \"id\": 4, \"state\": \"I2_a\"}\n",
      "-t state | -p {\"step\": 25, \"id\": 3, \"state\": \"S_a\"}\n",
      "-t state | -p {\"step\": 25, \"id\": 0, \"state\": \"I2_a\"}\n",
      "-t state | -p {\"step\": 25, \"id\": 2, \"state\": \"S_a\"}\n",
      "-t state | -p {\"step\": 26, \"id\": 1, \"state\": \"I1_s\"}\n",
      "-t state | -p {\"step\": 26, \"id\": 4, \"state\": \"I2_a\"}\n",
      "-t state | -p {\"step\": 26, \"id\": 3, \"state\": \"I2_a\"}\n",
      "-t state | -p {\"step\": 26, \"id\": 0, \"state\": \"I2_a\"}\n",
      "-t state | -p {\"step\": 26, \"id\": 2, \"state\": \"S_s\"}\n",
      "-t state | -p {\"step\": 27, \"id\": 1, \"state\": \"I1_s\"}\n",
      "-t state | -p {\"step\": 27, \"id\": 4, \"state\": \"I2_a\"}\n",
      "-t state | -p {\"step\": 27, \"id\": 3, \"state\": \"I2_a\"}\n",
      "-t state | -p {\"step\": 27, \"id\": 0, \"state\": \"I2_a\"}\n",
      "-t state | -p {\"step\": 27, \"id\": 2, \"state\": \"S_s\"}\n",
      "-t state | -p {\"step\": 28, \"id\": 1, \"state\": \"I1_a\"}\n",
      "-t state | -p {\"step\": 28, \"id\": 4, \"state\": \"I2_a\"}\n",
      "-t state | -p {\"step\": 28, \"id\": 3, \"state\": \"S_a\"}\n",
      "-t state | -p {\"step\": 28, \"id\": 0, \"state\": \"I2_a\"}\n",
      "-t state | -p {\"step\": 28, \"id\": 2, \"state\": \"S_a\"}\n",
      "-t state | -p {\"step\": 29, \"id\": 1, \"state\": \"I1_a\"}\n",
      "-t state | -p {\"step\": 29, \"id\": 4, \"state\": \"I2_a\"}\n",
      "-t state | -p {\"step\": 29, \"id\": 3, \"state\": \"S_s\"}\n",
      "-t state | -p {\"step\": 29, \"id\": 0, \"state\": \"I2_a\"}\n",
      "-t state | -p {\"step\": 29, \"id\": 2, \"state\": \"S_s\"}\n",
      "-t state | -p {\"step\": 30, \"id\": 1, \"state\": \"I1_a\"}\n",
      "-t state | -p {\"step\": 30, \"id\": 4, \"state\": \"I2_a\"}\n",
      "-t state | -p {\"step\": 30, \"id\": 3, \"state\": \"S_a\"}\n",
      "-t state | -p {\"step\": 30, \"id\": 0, \"state\": \"I2_a\"}\n",
      "-t state | -p {\"step\": 30, \"id\": 2, \"state\": \"S_a\"}\n",
      "-t state | -p {\"step\": 31, \"id\": 1, \"state\": \"I1_a\"}\n",
      "-t state | -p {\"step\": 31, \"id\": 4, \"state\": \"I2_a\"}\n",
      "-t state | -p {\"step\": 31, \"id\": 3, \"state\": \"S_s\"}\n"
     ]
    },
    {
     "name": "stdout",
     "output_type": "stream",
     "text": [
      "-t state | -p {\"step\": 31, \"id\": 0, \"state\": \"I2_s\"}\n",
      "-t state | -p {\"step\": 31, \"id\": 2, \"state\": \"S_s\"}\n",
      "-t state | -p {\"step\": 32, \"id\": 1, \"state\": \"I1_s\"}\n",
      "-t state | -p {\"step\": 32, \"id\": 4, \"state\": \"S_a\"}\n",
      "-t state | -p {\"step\": 32, \"id\": 3, \"state\": \"S_a\"}\n",
      "-t state | -p {\"step\": 32, \"id\": 0, \"state\": \"I2_a\"}\n",
      "-t state | -p {\"step\": 32, \"id\": 2, \"state\": \"S_a\"}\n",
      "-t state | -p {\"step\": 33, \"id\": 1, \"state\": \"I1_s\"}\n",
      "-t state | -p {\"step\": 33, \"id\": 4, \"state\": \"I2_a\"}\n",
      "-t state | -p {\"step\": 33, \"id\": 3, \"state\": \"S_s\"}\n",
      "-t state | -p {\"step\": 33, \"id\": 0, \"state\": \"I2_a\"}\n",
      "-t state | -p {\"step\": 33, \"id\": 2, \"state\": \"S_a\"}\n",
      "-t state | -p {\"step\": 34, \"id\": 1, \"state\": \"I1_a\"}\n",
      "-t state | -p {\"step\": 34, \"id\": 4, \"state\": \"I2_a\"}\n",
      "-t state | -p {\"step\": 34, \"id\": 3, \"state\": \"S_s\"}\n",
      "-t state | -p {\"step\": 34, \"id\": 0, \"state\": \"I2_s\"}\n",
      "-t state | -p {\"step\": 34, \"id\": 2, \"state\": \"S_s\"}\n",
      "-t state | -p {\"step\": 35, \"id\": 1, \"state\": \"I1_s\"}\n",
      "-t state | -p {\"step\": 35, \"id\": 4, \"state\": \"I2_a\"}\n",
      "-t state | -p {\"step\": 35, \"id\": 3, \"state\": \"S_s\"}\n",
      "-t state | -p {\"step\": 35, \"id\": 0, \"state\": \"I2_s\"}\n",
      "-t state | -p {\"step\": 35, \"id\": 2, \"state\": \"S_a\"}\n",
      "-t state | -p {\"step\": 36, \"id\": 1, \"state\": \"I1_a\"}\n",
      "-t state | -p {\"step\": 36, \"id\": 4, \"state\": \"I2_a\"}\n",
      "-t state | -p {\"step\": 36, \"id\": 3, \"state\": \"S_a\"}\n",
      "-t state | -p {\"step\": 36, \"id\": 0, \"state\": \"I2_s\"}\n",
      "-t state | -p {\"step\": 36, \"id\": 2, \"state\": \"S_a\"}\n",
      "-t state | -p {\"step\": 37, \"id\": 1, \"state\": \"I1_a\"}\n",
      "-t state | -p {\"step\": 37, \"id\": 4, \"state\": \"I2_s\"}\n",
      "-t state | -p {\"step\": 37, \"id\": 3, \"state\": \"S_a\"}\n",
      "-t state | -p {\"step\": 37, \"id\": 0, \"state\": \"I2_a\"}\n",
      "-t state | -p {\"step\": 37, \"id\": 2, \"state\": \"S_s\"}\n",
      "-t state | -p {\"step\": 38, \"id\": 1, \"state\": \"S_a\"}\n",
      "-t state | -p {\"step\": 38, \"id\": 4, \"state\": \"I2_a\"}\n",
      "-t state | -p {\"step\": 38, \"id\": 3, \"state\": \"S_s\"}\n",
      "-t state | -p {\"step\": 38, \"id\": 0, \"state\": \"I2_s\"}\n",
      "-t state | -p {\"step\": 38, \"id\": 2, \"state\": \"S_a\"}\n",
      "-t state | -p {\"step\": 39, \"id\": 1, \"state\": \"S_s\"}\n",
      "-t state | -p {\"step\": 39, \"id\": 4, \"state\": \"I2_a\"}\n",
      "-t state | -p {\"step\": 39, \"id\": 3, \"state\": \"S_s\"}\n",
      "-t state | -p {\"step\": 39, \"id\": 0, \"state\": \"I2_a\"}\n",
      "-t state | -p {\"step\": 39, \"id\": 2, \"state\": \"S_s\"}\n",
      "-t state | -p {\"step\": 40, \"id\": 1, \"state\": \"S_s\"}\n",
      "-t state | -p {\"step\": 40, \"id\": 4, \"state\": \"S_a\"}\n",
      "-t state | -p {\"step\": 40, \"id\": 3, \"state\": \"S_s\"}\n",
      "-t state | -p {\"step\": 40, \"id\": 0, \"state\": \"I2_a\"}\n",
      "-t state | -p {\"step\": 40, \"id\": 2, \"state\": \"S_a\"}\n",
      "-t state | -p {\"step\": 41, \"id\": 1, \"state\": \"S_a\"}\n",
      "-t state | -p {\"step\": 41, \"id\": 4, \"state\": \"I2_a\"}\n",
      "-t state | -p {\"step\": 41, \"id\": 3, \"state\": \"S_a\"}\n",
      "-t state | -p {\"step\": 41, \"id\": 0, \"state\": \"I2_a\"}\n",
      "-t state | -p {\"step\": 41, \"id\": 2, \"state\": \"S_s\"}\n",
      "-t state | -p {\"step\": 42, \"id\": 1, \"state\": \"I2_a\"}\n",
      "-t state | -p {\"step\": 42, \"id\": 4, \"state\": \"I2_a\"}\n",
      "-t state | -p {\"step\": 42, \"id\": 3, \"state\": \"S_s\"}\n",
      "-t state | -p {\"step\": 42, \"id\": 0, \"state\": \"I2_a\"}\n",
      "-t state | -p {\"step\": 42, \"id\": 2, \"state\": \"S_s\"}\n",
      "-t state | -p {\"step\": 43, \"id\": 1, \"state\": \"I2_a\"}\n",
      "-t state | -p {\"step\": 43, \"id\": 4, \"state\": \"I2_a\"}\n",
      "-t state | -p {\"step\": 43, \"id\": 3, \"state\": \"S_s\"}\n",
      "-t state | -p {\"step\": 43, \"id\": 0, \"state\": \"S_a\"}\n",
      "-t state | -p {\"step\": 43, \"id\": 2, \"state\": \"S_a\"}\n"
     ]
    }
   ],
   "source": [
    "mqttc.publish('start', 'dummy_msg')"
   ]
  },
  {
   "cell_type": "code",
   "execution_count": 6,
   "metadata": {},
   "outputs": [
    {
     "name": "stdout",
     "output_type": "stream",
     "text": [
      "(0.8035799358443841, 0.7321479615066306) (1, 0)\n"
     ]
    },
    {
     "data": {
      "image/png": "[encoded data removed]",
      "text/plain": [
       "<Figure size 360x360 with 1 Axes>"
      ]
     },
     "metadata": {
      "needs_background": "light"
     },
     "output_type": "display_data"
    }
   ],
   "source": [
    "paramet = {\n",
    "        'alpha': [0.2, 0.15], # infect rate \n",
    "        'mu': [0.3, 0.3], # sleep s \n",
    "        'gamma': [0.3, 0.3], # rec rate \n",
    "        'lambda': [0.1, 0.1], # sleep I1 \n",
    "        'kappa': [0.2, 0.2] # sleep I2    % [I2_s -> I2_a, I2_a -> I2_s]\n",
    "    }\n",
    "np.random.seed(777)\n",
    "random.seed(3)\n",
    "N = 5\n",
    "r = 1\n",
    "number_subgraphs = 0\n",
    "\n",
    "while number_subgraphs != 1:\n",
    "    a = EpidemicGraph(N,r,paramet,I1_a=1, I2_a=1, grid_size=[2,2], create=True) # net='Uniform Grid'\n",
    "    number_subgraphs = len(list(nx.connected_component_subgraphs(a.G)))\n",
    "    number_isolated_nodes = len(list(nx.isolates(a.G)))\n",
    "    print(calc_R0(a.G, paramet), (number_subgraphs, number_isolated_nodes))\n",
    "\n",
    "G = a.G\n",
    "# G.node[0]['state'] = 'S_s'\n",
    "\n",
    "\n",
    "plt, fig = plot(G)\n",
    "# plt.show()\n",
    "fig.savefig('figures/_.png')"
   ]
  },
  {
   "cell_type": "code",
   "execution_count": 7,
   "metadata": {},
   "outputs": [
    {
     "name": "stdout",
     "output_type": "stream",
     "text": [
      "{'id': 0, 'state': 'S_a', 'neighbours': [1, 4]}\n",
      "{'id': 1, 'state': 'I1_a', 'neighbours': [0, 4]}\n",
      "{'id': 2, 'state': 'S_a', 'neighbours': [3]}\n",
      "{'id': 3, 'state': 'S_a', 'neighbours': [2, 4]}\n",
      "{'id': 4, 'state': 'I2_a', 'neighbours': [0, 1, 3]}\n"
     ]
    },
    {
     "data": {
      "text/plain": [
       "<paho.mqtt.client.MQTTMessageInfo at 0x1e1723f8a48>"
      ]
     },
     "execution_count": 7,
     "metadata": {},
     "output_type": "execute_result"
    }
   ],
   "source": [
    "G.node[1]\n",
    "\n",
    "msg_list = []\n",
    "for node_id in range(N):\n",
    "    neighbours = list(G[node_id])\n",
    "    msg = {\n",
    "        \"id\": node_id,\n",
    "        \"state\": G.node[node_id]['state'],\n",
    "        \"neighbours\": neighbours\n",
    "    }\n",
    "    msg_list.append(msg)\n",
    "    print(msg)\n",
    "    \n",
    "mqttc.publish('init', json.dumps(msg_list))"
   ]
  }
 ],
 "metadata": {
  "kernelspec": {
   "display_name": "Python 3",
   "language": "python",
   "name": "python3"
  },
  "language_info": {
   "codemirror_mode": {
    "name": "ipython",
    "version": 3
   },
   "file_extension": ".py",
   "mimetype": "text/x-python",
   "name": "python",
   "nbconvert_exporter": "python",
   "pygments_lexer": "ipython3",
   "version": "3.7.1"
  }
 },
 "nbformat": 4,
 "nbformat_minor": 2
}
