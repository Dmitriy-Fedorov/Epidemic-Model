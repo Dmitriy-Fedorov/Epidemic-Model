{
 "cells": [
  {
   "cell_type": "code",
   "execution_count": 1,
   "metadata": {},
   "outputs": [],
   "source": [
    "import paho.mqtt.client as paho\n",
    "import numpy as np\n",
    "import random\n",
    "import json\n",
    "import networkx as nx\n",
    "from node import EpidemicGraph, TransitionDiagram, calc_R0\n",
    "import matplotlib.pyplot as plt\n",
    "import matplotlib.patches as mpatches\n",
    "from datetime import datetime\n",
    "from IPython.display import clear_output\n",
    "# %matplotlib inline"
   ]
  },
  {
   "cell_type": "code",
   "execution_count": 2,
   "metadata": {},
   "outputs": [
    {
     "data": {
      "text/plain": [
       "0.14195613804476254"
      ]
     },
     "execution_count": 2,
     "metadata": {},
     "output_type": "execute_result"
    }
   ],
   "source": [
    "import random\n",
    "random.random()/5"
   ]
  },
  {
   "cell_type": "code",
   "execution_count": 3,
   "metadata": {},
   "outputs": [],
   "source": [
    "t = [' ' for i in range(50)]\n",
    "flush = ''.join(t)\n",
    "# broker_ip = 'localhost'\n",
    "broker_ip = '10.101.21.2'\n",
    "connflag = False"
   ]
  },
  {
   "cell_type": "code",
   "execution_count": 4,
   "metadata": {},
   "outputs": [],
   "source": [
    "def plot(G, title='step_1', ns=1000, fs=12, lim=2, figsize=(5, 5)):\n",
    "    pos = nx.get_node_attributes(G, 'position')\n",
    "    ids = {i:i for i in range(N)}\n",
    "    print('Total node number', N)\n",
    "\n",
    "    s_a = [x for x,y in G.nodes(data=True) if y['state']=='S_a']\n",
    "    s_s = [x for x,y in G.nodes(data=True) if y['state']=='S_s']\n",
    "    i1_a = [x for x,y in G.nodes(data=True) if y['state']=='I1_a']\n",
    "    i1_s = [x for x,y in G.nodes(data=True) if y['state']=='I1_s']\n",
    "    i2_a = [x for x,y in G.nodes(data=True) if y['state']=='I2_a']\n",
    "    i2_s = [x for x,y in G.nodes(data=True) if y['state']=='I2_s']\n",
    "\n",
    "\n",
    "    fig = plt.figure(figsize=figsize)\n",
    "    nx.draw_networkx_edges(G, pos, alpha=0.8)\n",
    "    nx.draw_networkx_nodes(G, pos, node_size=ns, nodelist=s_a, node_color='#66ff99')\n",
    "    nx.draw_networkx_nodes(G, pos, node_size=ns, nodelist=s_s, node_color='#006600')\n",
    "    nx.draw_networkx_nodes(G, pos, node_size=ns, nodelist=i1_a, node_color='#ff6666')\n",
    "    nx.draw_networkx_nodes(G, pos, node_size=ns, nodelist=i1_s, node_color='#cc0000')\n",
    "    nx.draw_networkx_nodes(G, pos, node_size=ns, nodelist=i2_a, node_color='#3399ff')\n",
    "    nx.draw_networkx_nodes(G, pos, node_size=ns, nodelist=i2_s, node_color='#0000cc')\n",
    "    nx.draw_networkx_labels(G, pos, ids, font_size=fs)\n",
    "\n",
    "    plt.title(title)\n",
    "    red_patch = mpatches.Patch(color='red', label='I1')\n",
    "    blue_patch = mpatches.Patch(color='blue', label='I2')\n",
    "    green_patch = mpatches.Patch(color='green', label='S')\n",
    "    plt.legend(handles=[green_patch, red_patch, blue_patch])\n",
    "    plt.xlim(0, lim)\n",
    "    plt.ylim(0, lim)\n",
    "    return plt, fig"
   ]
  },
  {
   "cell_type": "code",
   "execution_count": 5,
   "metadata": {},
   "outputs": [
    {
     "name": "stdout",
     "output_type": "stream",
     "text": [
      "Connection returned result: 0"
     ]
    },
    {
     "data": {
      "text/plain": [
       "(0, 3)"
      ]
     },
     "execution_count": 5,
     "metadata": {},
     "output_type": "execute_result"
    },
    {
     "name": "stdout",
     "output_type": "stream",
     "text": [
      "\n"
     ]
    }
   ],
   "source": [
    "mqttc = paho.Client()\n",
    "mqttc.max_inflight_messages_set(100)\n",
    "counter = 0\n",
    "N = 10\n",
    "format_date = \"%d %b %Y %H%M%S.%f\"\n",
    "\n",
    "def on_connect(client, userdata, flags, rc):\n",
    "    global connflag\n",
    "    #if connection is successful, rc value will be 0\n",
    "    print(\"Connection returned result: \" + str(rc) )\n",
    "    connflag = True\n",
    "\n",
    "def on_message(client, userdata, msg): \n",
    "    print(\"-t {} | -p {}\".format(msg.topic, msg.payload.decode()) )\n",
    "    \n",
    "def on_state(client, userdata, msg): \n",
    "    global G, counter\n",
    "    counter += 1\n",
    "    name = datetime.now().strftime(format_date)\n",
    "    js = json.loads(msg.payload.decode())\n",
    "    G.node[js['pi_id']]['state'] = js['state']\n",
    "#     if counter%N == 0:\n",
    "#         plt, fig = plot(G, 'step {}'.format((counter-1)//N), **plt_set)\n",
    "#         fig.savefig('figures/{}.png'.format(name))\n",
    "#         plt.close()\n",
    "    log = \"-t {} | -p {}\".format(msg.topic, msg.payload.decode())\n",
    "    print( log)\n",
    "    with open(\"log.txt\", \"a\") as myfile:\n",
    "        myfile.write(\"{},{}\\n\".format(name, log))\n",
    "        \n",
    "def on_finish(client, userdata, msg):  # on finish step\n",
    "    global node_set\n",
    "    log = \"-t {} | -p {}\".format(msg.topic, msg.payload.decode())\n",
    "    with open(\"log_node_set.txt\", \"a\") as myfile:\n",
    "        myfile.write(\"{}\\n\".format(log))\n",
    "    node_id = msg.payload.decode()\n",
    "    node_set.discard(node_id)\n",
    "    print(node_set, flush, end='\\r')\n",
    "#     with open(\"log_node_set.txt\", \"a\") as myfile:\n",
    "#         myfile.write(\"{},{}\\n\".format(node_set))\n",
    "    if len(node_set) == 0:\n",
    "#         mqttc.publish('next', 'dummy_msg', qos=2)\n",
    "        node_set = {str(x) for x in range(N)}\n",
    "#         clear_output(wait=True)\n",
    "\n",
    "def on_finish_trans(client, userdata, msg):  # on finish step\n",
    "    global node_set\n",
    "    log = \"-t {} | -p {}\".format(msg.topic, msg.payload.decode())\n",
    "    with open(\"log_node_set.txt\", \"a\") as myfile:\n",
    "        myfile.write(\"{}\\n\".format(log))\n",
    "    node_id = msg.payload.decode()\n",
    "    node_set.discard(node_id)\n",
    "    print(node_set, flush, end='\\r')\n",
    "#     with open(\"log_node_set.txt\", \"a\") as myfile:\n",
    "#         myfile.write(\"{},{}\\n\".format(node_set))\n",
    "    if len(node_set) == 0:\n",
    "#         mqttc.publish('next', 'dummy_msg', qos=2)\n",
    "        node_set = {str(x) for x in range(N)}\n",
    "        clear_output(wait=True)\n",
    "\n",
    "    \n",
    "\n",
    "mqttc.on_connect = on_connect\n",
    "mqttc.on_message = on_message\n",
    "mqttc.message_callback_add(\"state\", on_state)\n",
    "mqttc.message_callback_add(\"finish\", on_finish)\n",
    "mqttc.message_callback_add(\"finish_trans\", on_finish_trans)\n",
    "\n",
    "mqttc.connect(broker_ip)\n",
    "mqttc.loop_start()\n",
    "mqttc.subscribe('state', 2)\n",
    "mqttc.subscribe('finish', 2)\n",
    "mqttc.subscribe('finish_trans', 2)"
   ]
  },
  {
   "cell_type": "code",
   "execution_count": 15,
   "metadata": {},
   "outputs": [
    {
     "name": "stdout",
     "output_type": "stream",
     "text": [
      "(0.494541809326253, 2.2780761838189827) (1, 0)\n",
      "(0.494541809326253, 2.2780761838189827)\n"
     ]
    }
   ],
   "source": [
    "# 0.04 0.05|0.04 0.04|0.3 0.3  |0.05 0.2 |0.04 0.1   R1<1 R2<1    \n",
    "# 0.04 0.15|0.04 0.04|0.25 0.07|0.06 0.12|0.05 0.15  R1<1 R2>1\n",
    "# 0.25 0.05|0.04 0.04|0.25 0.5 |0.05 0.12|0.04 0.15  R1>1 R2<1\n",
    "# 0.25 0.35|0.04 0.04|0.04 0.35|0.06 0.07|0.05 0.06  R1>1 R2>1\n",
    "paramet = {    # R1<1 R2<1  \n",
    "        'alpha': [0.04, 0.05], # infect rate \n",
    "        'mu': [0.04, 0.04], # sleep s \n",
    "        'gamma': [0.3, 0.3], # rec rate \n",
    "        'lambda': [0.05, 0.2], # sleep I1 \n",
    "        'kappa': [0.04, 0.1] # sleep I2    % [I2_s -> I2_a, I2_a -> I2_s]\n",
    "    }\n",
    "paramet = {    # R1<1 R2<1  \n",
    "        'alpha': [0.04, 0.15], # infect rate \n",
    "        'mu': [0.04, 0.04], # sleep s \n",
    "        'gamma': [0.25, 0.07], # rec rate \n",
    "        'lambda': [0.06, 0.12], # sleep I1 \n",
    "        'kappa': [0.04, 0.15] # sleep I2    % [I2_s -> I2_a, I2_a -> I2_s]\n",
    "    }\n",
    "# paramet = {    # R1<1 R2<1  \n",
    "#         'alpha': [0.04, 0.05], # infect rate \n",
    "#         'mu': [0.04, 0.04], # sleep s \n",
    "#         'gamma': [0.3, 0.3], # rec rate \n",
    "#         'lambda': [0.05, 0.2], # sleep I1 \n",
    "#         'kappa': [0.04, 0.1] # sleep I2    % [I2_s -> I2_a, I2_a -> I2_s]\n",
    "#     }\n",
    "# paramet = {    # R1<1 R2<1  \n",
    "#         'alpha': [0.04, 0.05], # infect rate \n",
    "#         'mu': [0.04, 0.04], # sleep s \n",
    "#         'gamma': [0.3, 0.3], # rec rate \n",
    "#         'lambda': [0.05, 0.2], # sleep I1 \n",
    "#         'kappa': [0.04, 0.1] # sleep I2    % [I2_s -> I2_a, I2_a -> I2_s]\n",
    "#     }\n",
    "np.random.seed(315)  # structure\n",
    "random.seed(6)       # infected\n",
    "N = 50*2\n",
    "r = 1\n",
    "number_subgraphs = 0\n",
    "node_set = {str(x) for x in range(N)}\n",
    "\n",
    "while number_subgraphs != 1:\n",
    "    a = EpidemicGraph(N,r,paramet,I1_a=4, I2_a=4, grid_size=[6, 6], create=True) # net='Uniform Grid'\n",
    "    a.load_csv('WS_100.csv',4,4)\n",
    "    number_subgraphs = len(list(nx.connected_component_subgraphs(a.G)))\n",
    "    number_isolated_nodes = len(list(nx.isolates(a.G)))\n",
    "    print(calc_R0(a.G, paramet), (number_subgraphs, number_isolated_nodes))\n",
    "\n",
    "G = a.G\n",
    "# G.node[0]['state'] = 'S_s'\n",
    "print(calc_R0(a.G, paramet))\n",
    "plt_set = {\n",
    "    'ns': 400, \n",
    "    'fs': 10,\n",
    "    'lim': 6.1, \n",
    "    'figsize': (5,5)\n",
    "}\n",
    "# plt, fig = plot(G, **plt_set) #  ns=300, fs=6,lim=5\n",
    "# plt.show()\n",
    "# fig.savefig('figures/_.png')\n",
    "with open(\"log.txt\", \"w\") as myfile:\n",
    "    myfile.write(\"\")"
   ]
  },
  {
   "cell_type": "code",
   "execution_count": 16,
   "metadata": {},
   "outputs": [
    {
     "name": "stdout",
     "output_type": "stream",
     "text": [
      "{'id': 0, 'state': 'S_a', 'neighbours': [1, 2, 3, 23, 39, 97, 98]}\n",
      "{'id': 1, 'state': 'S_a', 'neighbours': [0, 2, 3, 39, 98, 99]}\n",
      "{'id': 2, 'state': 'S_a', 'neighbours': [0, 1, 3, 5, 99]}\n",
      "{'id': 3, 'state': 'S_a', 'neighbours': [0, 1, 2, 4, 5, 6]}\n",
      "{'id': 4, 'state': 'S_a', 'neighbours': [3, 5, 6, 7, 62, 90]}\n",
      "{'id': 5, 'state': 'S_a', 'neighbours': [2, 3, 4, 6, 7, 8]}\n",
      "{'id': 6, 'state': 'S_a', 'neighbours': [3, 4, 5, 7, 8, 9, 58]}\n",
      "{'id': 7, 'state': 'S_a', 'neighbours': [4, 5, 6, 8, 9, 10]}\n",
      "{'id': 8, 'state': 'S_a', 'neighbours': [5, 6, 7, 10, 11, 40, 94]}\n",
      "{'id': 9, 'state': 'S_a', 'neighbours': [6, 7, 10, 11, 12]}\n",
      "{'id': 10, 'state': 'S_a', 'neighbours': [7, 8, 9, 11, 12, 13]}\n",
      "{'id': 11, 'state': 'S_a', 'neighbours': [8, 9, 10, 12, 13, 14]}\n",
      "{'id': 12, 'state': 'S_a', 'neighbours': [9, 10, 11, 13, 14, 15]}\n",
      "{'id': 13, 'state': 'S_a', 'neighbours': [10, 11, 12, 14, 15, 16]}\n",
      "{'id': 14, 'state': 'S_a', 'neighbours': [11, 12, 13, 15, 16, 17]}\n",
      "{'id': 15, 'state': 'S_a', 'neighbours': [12, 13, 14, 16, 17]}\n",
      "{'id': 16, 'state': 'S_a', 'neighbours': [13, 14, 15, 17, 18, 19, 97]}\n",
      "{'id': 17, 'state': 'S_a', 'neighbours': [14, 15, 16, 19, 20]}\n",
      "{'id': 18, 'state': 'S_a', 'neighbours': [16, 19, 21, 55, 60, 85]}\n",
      "{'id': 19, 'state': 'S_a', 'neighbours': [16, 17, 18, 20, 21, 22, 79]}\n",
      "{'id': 20, 'state': 'S_a', 'neighbours': [17, 19, 21, 22, 23]}\n",
      "{'id': 21, 'state': 'S_a', 'neighbours': [18, 19, 20, 22, 24, 61]}\n",
      "{'id': 22, 'state': 'S_a', 'neighbours': [19, 20, 21, 23, 24, 25]}\n",
      "{'id': 23, 'state': 'S_a', 'neighbours': [0, 20, 22, 24, 25, 26]}\n",
      "{'id': 24, 'state': 'S_a', 'neighbours': [21, 22, 23, 25, 26]}\n",
      "{'id': 25, 'state': 'S_a', 'neighbours': [22, 23, 24, 27, 28]}\n",
      "{'id': 26, 'state': 'S_a', 'neighbours': [23, 24, 27, 29, 40, 52, 93]}\n",
      "{'id': 27, 'state': 'S_a', 'neighbours': [25, 26, 28, 34, 60, 94]}\n",
      "{'id': 28, 'state': 'S_a', 'neighbours': [25, 27, 29, 30, 31]}\n",
      "{'id': 29, 'state': 'S_a', 'neighbours': [26, 28, 30, 31, 32]}\n",
      "{'id': 30, 'state': 'S_a', 'neighbours': [28, 29, 31, 32, 33, 86]}\n",
      "{'id': 31, 'state': 'S_a', 'neighbours': [28, 29, 30, 32, 33, 34]}\n",
      "{'id': 32, 'state': 'S_a', 'neighbours': [29, 30, 31, 33, 34, 35, 39]}\n",
      "{'id': 33, 'state': 'S_a', 'neighbours': [30, 31, 32, 34, 35, 76]}\n",
      "{'id': 34, 'state': 'S_a', 'neighbours': [27, 31, 32, 33, 35, 36, 37]}\n",
      "{'id': 35, 'state': 'S_a', 'neighbours': [32, 33, 34, 36, 37, 38]}\n",
      "{'id': 36, 'state': 'S_a', 'neighbours': [34, 35, 37, 38]}\n",
      "{'id': 37, 'state': 'S_a', 'neighbours': [34, 35, 36, 38, 39, 40]}\n",
      "{'id': 38, 'state': 'S_a', 'neighbours': [35, 36, 37, 40, 41, 56, 82]}\n",
      "{'id': 39, 'state': 'S_a', 'neighbours': [0, 1, 32, 37, 41, 42]}\n",
      "{'id': 40, 'state': 'I2_a', 'neighbours': [8, 26, 37, 38, 43]}\n",
      "{'id': 41, 'state': 'S_a', 'neighbours': [38, 39, 42, 43, 44]}\n",
      "{'id': 42, 'state': 'S_a', 'neighbours': [39, 41, 43, 44, 45]}\n",
      "{'id': 43, 'state': 'S_a', 'neighbours': [40, 41, 42, 44, 45, 46, 93]}\n",
      "{'id': 44, 'state': 'S_a', 'neighbours': [41, 42, 43, 45, 46, 47, 70]}\n",
      "{'id': 45, 'state': 'S_a', 'neighbours': [42, 43, 44, 46, 47, 48]}\n",
      "{'id': 46, 'state': 'S_a', 'neighbours': [43, 44, 45, 47, 48, 49]}\n",
      "{'id': 47, 'state': 'I2_a', 'neighbours': [44, 45, 46, 48, 49, 50]}\n",
      "{'id': 48, 'state': 'S_a', 'neighbours': [45, 46, 47, 49, 50, 51]}\n",
      "{'id': 49, 'state': 'S_a', 'neighbours': [46, 47, 48, 50, 51, 52]}\n",
      "{'id': 50, 'state': 'S_a', 'neighbours': [47, 48, 49, 51, 52, 53]}\n",
      "{'id': 51, 'state': 'S_a', 'neighbours': [48, 49, 50, 52, 53, 54]}\n",
      "{'id': 52, 'state': 'S_a', 'neighbours': [26, 49, 50, 51, 53, 54, 55]}\n",
      "{'id': 53, 'state': 'S_a', 'neighbours': [50, 51, 52, 54, 55, 56]}\n",
      "{'id': 54, 'state': 'S_a', 'neighbours': [51, 52, 53, 55, 56, 57]}\n",
      "{'id': 55, 'state': 'S_a', 'neighbours': [18, 52, 53, 54, 57, 58]}\n",
      "{'id': 56, 'state': 'S_a', 'neighbours': [38, 53, 54, 57, 58, 59, 74]}\n",
      "{'id': 57, 'state': 'S_a', 'neighbours': [54, 55, 56, 58, 59, 60]}\n",
      "{'id': 58, 'state': 'S_a', 'neighbours': [6, 55, 56, 57, 59, 60]}\n",
      "{'id': 59, 'state': 'S_a', 'neighbours': [56, 57, 58, 60, 61, 62]}\n",
      "{'id': 60, 'state': 'I1_a', 'neighbours': [18, 27, 57, 58, 59, 61, 62, 63]}\n",
      "{'id': 61, 'state': 'S_a', 'neighbours': [21, 59, 60, 62, 63, 64]}\n",
      "{'id': 62, 'state': 'S_a', 'neighbours': [4, 59, 60, 61, 64, 65, 89]}\n",
      "{'id': 63, 'state': 'S_a', 'neighbours': [60, 61, 64, 65, 66]}\n",
      "{'id': 64, 'state': 'S_a', 'neighbours': [61, 62, 63, 65, 66, 67]}\n",
      "{'id': 65, 'state': 'S_a', 'neighbours': [62, 63, 64, 66, 67, 68]}\n",
      "{'id': 66, 'state': 'S_a', 'neighbours': [63, 64, 65, 67, 68, 69]}\n",
      "{'id': 67, 'state': 'S_a', 'neighbours': [64, 65, 66, 68, 69, 70]}\n",
      "{'id': 68, 'state': 'S_a', 'neighbours': [65, 66, 67, 69, 70, 71]}\n",
      "{'id': 69, 'state': 'S_a', 'neighbours': [66, 67, 68, 70, 71, 72]}\n",
      "{'id': 70, 'state': 'S_a', 'neighbours': [44, 67, 68, 69, 72]}\n",
      "{'id': 71, 'state': 'S_a', 'neighbours': [68, 69, 73, 74, 90, 92]}\n",
      "{'id': 72, 'state': 'S_a', 'neighbours': [69, 70, 73, 74, 75]}\n",
      "{'id': 73, 'state': 'S_a', 'neighbours': [71, 72, 75, 76]}\n",
      "{'id': 74, 'state': 'S_a', 'neighbours': [56, 71, 72, 75, 76, 77]}\n",
      "{'id': 75, 'state': 'I1_a', 'neighbours': [72, 73, 74, 76, 77, 78]}\n",
      "{'id': 76, 'state': 'S_a', 'neighbours': [33, 73, 74, 75, 77, 78, 79]}\n",
      "{'id': 77, 'state': 'S_a', 'neighbours': [74, 75, 76, 78, 80]}\n",
      "{'id': 78, 'state': 'S_a', 'neighbours': [75, 76, 77, 79, 80, 81]}\n",
      "{'id': 79, 'state': 'S_a', 'neighbours': [19, 76, 78, 80, 81, 82]}\n",
      "{'id': 80, 'state': 'S_a', 'neighbours': [77, 78, 79, 81, 83]}\n",
      "{'id': 81, 'state': 'S_a', 'neighbours': [78, 79, 80, 82, 83, 84]}\n",
      "{'id': 82, 'state': 'S_a', 'neighbours': [38, 79, 81, 83, 84, 85]}\n",
      "{'id': 83, 'state': 'S_a', 'neighbours': [80, 81, 82, 84, 85, 86]}\n",
      "{'id': 84, 'state': 'I1_a', 'neighbours': [81, 82, 83, 85, 87]}\n",
      "{'id': 85, 'state': 'S_a', 'neighbours': [18, 82, 83, 84, 86, 87, 88]}\n",
      "{'id': 86, 'state': 'S_a', 'neighbours': [30, 83, 85, 87, 88, 89]}\n",
      "{'id': 87, 'state': 'S_a', 'neighbours': [84, 85, 86, 88, 89, 90]}\n",
      "{'id': 88, 'state': 'S_a', 'neighbours': [85, 86, 87, 89, 90, 91]}\n",
      "{'id': 89, 'state': 'S_a', 'neighbours': [62, 86, 87, 88, 90, 91, 92]}\n",
      "{'id': 90, 'state': 'S_a', 'neighbours': [4, 71, 87, 88, 89, 91, 92]}\n",
      "{'id': 91, 'state': 'S_a', 'neighbours': [88, 89, 90, 92, 93, 94]}\n",
      "{'id': 92, 'state': 'S_a', 'neighbours': [71, 89, 90, 91, 93, 94, 95]}\n",
      "{'id': 93, 'state': 'S_a', 'neighbours': [26, 43, 91, 92, 94, 95, 96]}\n",
      "{'id': 94, 'state': 'I2_a', 'neighbours': [8, 27, 91, 92, 93, 95, 96, 97]}\n",
      "{'id': 95, 'state': 'S_a', 'neighbours': [92, 93, 94, 96, 97, 98]}\n",
      "{'id': 96, 'state': 'S_a', 'neighbours': [93, 94, 95, 97, 98, 99]}\n",
      "{'id': 97, 'state': 'I1_a', 'neighbours': [0, 16, 94, 95, 96, 99]}\n",
      "{'id': 98, 'state': 'I2_a', 'neighbours': [0, 1, 95, 96, 99]}\n",
      "{'id': 99, 'state': 'S_a', 'neighbours': [1, 2, 96, 97, 98]}\n"
     ]
    },
    {
     "data": {
      "text/plain": [
       "<paho.mqtt.client.MQTTMessageInfo at 0x7f37461d3e08>"
      ]
     },
     "execution_count": 16,
     "metadata": {},
     "output_type": "execute_result"
    }
   ],
   "source": [
    "G.node[1]\n",
    "node_set = {str(x) for x in range(N)}\n",
    "msg_list = []\n",
    "for node_id in range(N):\n",
    "    neighbours = list(G[node_id])\n",
    "    msg = {\n",
    "        \"id\": node_id,\n",
    "        \"state\": G.node[node_id]['state'],\n",
    "        \"neighbours\": neighbours\n",
    "    }\n",
    "    msg_list.append(msg)\n",
    "    print(msg)\n",
    "    \n",
    "mqttc.publish('init', json.dumps(msg_list))"
   ]
  },
  {
   "cell_type": "code",
   "execution_count": 8,
   "metadata": {},
   "outputs": [],
   "source": [
    "# node_set = {str(x) for x in range(5)}\n",
    "# # mqttc.publish('finish', '14', qos=2)\n",
    "# unwanted = ['1','2','3','4','0'] # set()\n",
    "# {e for e in node_set if e not in unwanted}\n"
   ]
  },
  {
   "cell_type": "code",
   "execution_count": 9,
   "metadata": {},
   "outputs": [],
   "source": [
    "# mqttc.loop_stop()"
   ]
  },
  {
   "cell_type": "code",
   "execution_count": 10,
   "metadata": {},
   "outputs": [],
   "source": [
    "# mqttc.publish('nextstep', 'dummy_msg', qos=2)"
   ]
  },
  {
   "cell_type": "code",
   "execution_count": 11,
   "metadata": {},
   "outputs": [],
   "source": [
    "# mqttc.publish('stop', 'dummy_msg', qos=2)"
   ]
  },
  {
   "cell_type": "code",
   "execution_count": 12,
   "metadata": {},
   "outputs": [],
   "source": [
    "# mqttc.publish('kill', 'process die', qos=2)"
   ]
  },
  {
   "cell_type": "code",
   "execution_count": 13,
   "metadata": {},
   "outputs": [],
   "source": [
    "# mqttc.publish('paramet', json.dumps(paramet), qos=2)\n",
    "# mqttc.publish('finish', str(92), qos=2)"
   ]
  },
  {
   "cell_type": "code",
   "execution_count": 17,
   "metadata": {},
   "outputs": [
    {
     "name": "stdout",
     "output_type": "stream",
     "text": [
      "-t state | -p {\"pi_id\": 96, \"state\": \"I2_a\", \"step\": 228}\n",
      "-t state | -p {\"pi_id\": 0, \"step\": 228, \"state\": \"I2_a\"}\n",
      "-t state | -p {\"pi_id\": 32, \"state\": \"I2_a\", \"step\": 228}\n",
      "-t state | -p {\"pi_id\": 33, \"state\": \"I2_a\", \"step\": 228}\n",
      "-t state | -p {\"pi_id\": 1, \"step\": 228, \"state\": \"I2_a\"}\n",
      "-t state | -p {\"pi_id\": 64, \"step\": 228, \"state\": \"I2_s\"}\n",
      "-t state | -p {\"pi_id\": 97, \"state\": \"I2_a\", \"step\": 228}\n",
      "-t state | -p {\"pi_id\": 40, \"step\": 228, \"state\": \"I2_a\"}\n",
      "-t state | -p {\"pi_id\": 34, \"state\": \"I2_s\", \"step\": 228}\n",
      "-t state | -p {\"pi_id\": 41, \"step\": 228, \"state\": \"I2_a\"}\n",
      "-t state | -p {\"pi_id\": 2, \"step\": 228, \"state\": \"S_a\"}\n",
      "-t state | -p {\"pi_id\": 65, \"step\": 228, \"state\": \"I2_a\"}\n",
      "-t state | -p {\"pi_id\": 3, \"step\": 228, \"state\": \"I2_a\"}\n",
      "-t state | -p {\"pi_id\": 4, \"step\": 228, \"state\": \"I2_a\"}\n",
      "-t state | -p {\"pi_id\": 42, \"step\": 228, \"state\": \"I2_a\"}\n",
      "-t state | -p {\"pi_id\": 66, \"step\": 228, \"state\": \"I2_a\"}\n",
      "-t state | -p {\"pi_id\": 98, \"state\": \"I2_s\", \"step\": 228}\n",
      "-t state | -p {\"pi_id\": 35, \"state\": \"I2_a\", \"step\": 228}\n",
      "-t state | -p {\"pi_id\": 99, \"state\": \"I2_a\", \"step\": 228}5', '45', '7', '84', '78', '23', '90', '66', '17', '95', '57', '73', '71', '42', '59', '79', '77', '61', '15', '29', '88', '36', '72', '47', '85', '97', '26', '86', '21', '83', '31', '64', '92', '98', '67', '60', '63', '19', '10', '5', '37', '13', '24', '8', '6', '16', '32', '65', '82', '70', '53', '87', '0', '4', '52', '50', '3', '80', '51', '40', '49', '56', '75', '58', '34', '54', '81', '9', '55', '68', '41', '11', '44', '93', '62', '12', '1', '35', '14', '43', '18', '91', '28', '74', '96', '89', '39', '69', '38', '2'}                                                   \n",
      "-t state | -p {\"pi_id\": 80, \"state\": \"I2_a\", \"step\": 228}\n",
      "-t state | -p {\"pi_id\": 67, \"step\": 228, \"state\": \"I2_a\"}\n",
      "-t state | -p {\"pi_id\": 43, \"step\": 228, \"state\": \"I2_a\"}\n",
      "-t state | -p {\"pi_id\": 36, \"state\": \"I2_a\", \"step\": 228}\n",
      "-t state | -p {\"pi_id\": 5, \"step\": 228, \"state\": \"I2_a\"}\n",
      "-t state | -p {\"pi_id\": 68, \"step\": 228, \"state\": \"I2_s\"}\n",
      "-t state | -p {\"pi_id\": 69, \"step\": 228, \"state\": \"S_a\"}25', '45', '7', '84', '78', '23', '90', '66', '17', '95', '57', '73', '71', '42', '59', '79', '77', '61', '15', '29', '88', '36', '72', '47', '85', '97', '26', '86', '21', '83', '31', '64', '92', '98', '67', '60', '63', '19', '10', '5', '37', '13', '24', '8', '6', '16', '32', '65', '82', '70', '53', '87', '0', '4', '52', '50', '3', '80', '51', '40', '49', '56', '75', '58', '34', '54', '81', '9', '55', '68', '41', '11', '44', '93', '62', '12', '1', '35', '14', '43', '18', '91', '28', '74', '96', '89', '39', '69', '38'}                                                   \n",
      "-t state | -p {\"pi_id\": 44, \"step\": 228, \"state\": \"I2_s\"}\n",
      "-t state | -p {\"pi_id\": 81, \"state\": \"I2_a\", \"step\": 228}\n",
      "-t state | -p {\"pi_id\": 70, \"step\": 228, \"state\": \"I2_a\"}\n",
      "-t state | -p {\"pi_id\": 37, \"state\": \"I2_a\", \"step\": 228}\n",
      "-t state | -p {\"pi_id\": 6, \"step\": 228, \"state\": \"I2_a\"}25', '45', '7', '84', '78', '23', '90', '66', '17', '95', '57', '73', '71', '42', '59', '79', '77', '61', '15', '29', '88', '36', '72', '47', '85', '97', '26', '86', '21', '83', '31', '64', '92', '98', '60', '63', '19', '10', '5', '37', '13', '24', '8', '6', '16', '32', '65', '82', '70', '53', '87', '0', '4', '52', '50', '3', '80', '51', '40', '49', '56', '75', '58', '34', '54', '81', '9', '55', '68', '41', '11', '44', '93', '62', '12', '1', '35', '14', '43', '18', '91', '28', '74', '96', '89', '39', '69', '38'}                                                   \n",
      "-t state | -p {\"pi_id\": 7, \"step\": 228, \"state\": \"I2_a\"}25', '45', '7', '84', '78', '23', '90', '66', '17', '95', '57', '73', '71', '42', '59', '79', '77', '61', '15', '29', '88', '36', '72', '47', '85', '97', '26', '86', '21', '83', '31', '64', '92', '98', '60', '63', '19', '10', '5', '37', '13', '24', '8', '6', '16', '32', '65', '82', '70', '53', '87', '0', '4', '52', '50', '80', '51', '40', '49', '56', '75', '58', '34', '54', '81', '9', '55', '68', '41', '11', '44', '93', '62', '12', '1', '35', '14', '43', '18', '91', '28', '74', '96', '89', '39', '69', '38'}                                                   \n",
      "-t state | -p {\"pi_id\": 45, \"step\": 228, \"state\": \"S_a\"}\n",
      "-t state | -p {\"pi_id\": 82, \"state\": \"I2_a\", \"step\": 228}\n",
      "-t state | -p {\"pi_id\": 8, \"step\": 228, \"state\": \"I2_s\"}\n",
      "-t state | -p {\"pi_id\": 71, \"step\": 228, \"state\": \"I2_a\"}\n",
      "-t state | -p {\"pi_id\": 72, \"step\": 228, \"state\": \"I2_a\"}5', '45', '7', '84', '78', '23', '90', '66', '17', '95', '57', '73', '71', '42', '59', '79', '77', '61', '15', '29', '88', '36', '72', '47', '85', '97', '26', '86', '21', '83', '31', '64', '92', '98', '60', '63', '19', '10', '37', '13', '24', '8', '6', '16', '32', '65', '82', '70', '53', '87', '0', '4', '52', '50', '80', '51', '40', '49', '56', '75', '58', '34', '54', '81', '9', '55', '41', '11', '44', '93', '62', '12', '1', '35', '14', '43', '18', '91', '28', '74', '96', '89', '39', '69', '38'}                                                         \n",
      "-t state | -p {\"pi_id\": 83, \"state\": \"I2_s\", \"step\": 228}5', '45', '7', '84', '78', '23', '90', '66', '17', '95', '57', '73', '71', '42', '59', '79', '77', '61', '15', '29', '88', '36', '72', '47', '85', '97', '26', '86', '21', '83', '31', '64', '92', '98', '60', '63', '19', '10', '37', '13', '24', '8', '6', '16', '32', '65', '82', '53', '87', '0', '4', '52', '50', '80', '51', '40', '49', '56', '75', '58', '34', '54', '81', '9', '55', '41', '11', '44', '93', '62', '12', '1', '35', '14', '43', '18', '91', '28', '74', '96', '89', '39', '38'}                                                         \n",
      "-t state | -p {\"pi_id\": 9, \"step\": 228, \"state\": \"I2_a\"}\n",
      "-t state | -p {\"pi_id\": 46, \"step\": 228, \"state\": \"I2_a\"}\n",
      "-t state | -p {\"pi_id\": 73, \"step\": 228, \"state\": \"I2_a\"}\n",
      "-t state | -p {\"pi_id\": 84, \"state\": \"I2_a\", \"step\": 228}\n",
      "-t state | -p {\"pi_id\": 47, \"step\": 228, \"state\": \"I2_s\"}\n",
      "-t state | -p {\"pi_id\": 74, \"step\": 228, \"state\": \"I2_a\"}5', '45', '7', '84', '78', '23', '90', '66', '17', '95', '57', '73', '71', '42', '59', '79', '77', '61', '15', '29', '88', '36', '72', '47', '85', '97', '26', '86', '21', '83', '31', '64', '92', '98', '60', '63', '19', '10', '37', '13', '24', '8', '6', '16', '32', '65', '82', '53', '87', '0', '4', '52', '50', '80', '51', '40', '49', '56', '75', '58', '34', '54', '81', '9', '55', '41', '11', '93', '62', '12', '1', '35', '14', '43', '18', '91', '28', '74', '96', '89', '39', '38'}                                                   \n",
      "-t state | -p {\"pi_id\": 75, \"step\": 228, \"state\": \"I2_a\"}\n",
      "-t state | -p {\"pi_id\": 10, \"step\": 228, \"state\": \"S_a\"}25', '45', '7', '84', '78', '23', '90', '66', '17', '95', '57', '73', '71', '42', '59', '79', '77', '61', '15', '29', '88', '36', '47', '85', '97', '26', '86', '21', '83', '31', '64', '92', '98', '60', '63', '19', '10', '37', '13', '24', '8', '6', '16', '32', '65', '82', '53', '87', '0', '4', '52', '50', '80', '51', '40', '49', '56', '75', '58', '34', '54', '81', '9', '55', '41', '11', '93', '62', '12', '1', '35', '14', '43', '18', '91', '28', '74', '96', '89', '39', '38'}                                                   \n",
      "-t state | -p {\"pi_id\": 11, \"step\": 228, \"state\": \"I2_a\"}5', '45', '84', '78', '23', '90', '66', '17', '95', '57', '73', '71', '42', '59', '79', '77', '61', '15', '29', '88', '36', '47', '85', '97', '26', '86', '21', '83', '31', '64', '92', '98', '60', '63', '19', '10', '37', '13', '24', '8', '6', '16', '32', '65', '82', '53', '87', '0', '4', '52', '50', '80', '51', '40', '49', '56', '75', '58', '34', '54', '81', '9', '55', '41', '11', '93', '62', '12', '1', '35', '14', '43', '18', '91', '28', '74', '96', '89', '39', '38'}                                                   \n",
      "-t state | -p {\"pi_id\": 48, \"step\": 228, \"state\": \"I2_a\"}\n",
      "-t state | -p {\"pi_id\": 85, \"state\": \"I2_a\", \"step\": 228}\n",
      "-t state | -p {\"pi_id\": 86, \"state\": \"I2_a\", \"step\": 228}\n"
     ]
    },
    {
     "name": "stdout",
     "output_type": "stream",
     "text": [
      "-t state | -p {\"pi_id\": 76, \"step\": 228, \"state\": \"I2_a\"}5', '84', '78', '23', '90', '66', '17', '95', '57', '73', '71', '42', '59', '79', '77', '61', '15', '29', '88', '36', '47', '85', '97', '26', '86', '21', '31', '64', '92', '98', '60', '63', '19', '10', '37', '13', '24', '8', '6', '16', '32', '65', '82', '53', '87', '0', '4', '52', '50', '80', '51', '40', '49', '56', '75', '58', '34', '54', '81', '9', '55', '41', '11', '93', '62', '12', '1', '35', '14', '43', '18', '91', '28', '74', '96', '89', '39', '38'}                                                         \n",
      "-t state | -p {\"pi_id\": 87, \"state\": \"I2_a\", \"step\": 228}5', '84', '78', '23', '90', '66', '17', '95', '57', '71', '42', '59', '79', '77', '61', '15', '29', '88', '36', '47', '85', '97', '26', '86', '21', '31', '64', '92', '98', '60', '63', '19', '10', '37', '13', '24', '8', '6', '16', '32', '65', '82', '53', '87', '0', '4', '52', '50', '80', '51', '40', '49', '56', '75', '58', '34', '54', '81', '9', '55', '41', '11', '93', '62', '12', '1', '35', '14', '43', '18', '91', '28', '74', '96', '89', '39', '38'}                                                   \n",
      "-t state | -p {\"pi_id\": 49, \"step\": 228, \"state\": \"S_a\"}25', '78', '23', '90', '66', '17', '95', '57', '71', '42', '59', '79', '77', '61', '15', '29', '88', '36', '47', '85', '97', '26', '86', '21', '31', '64', '92', '98', '60', '63', '19', '10', '37', '13', '24', '8', '6', '16', '32', '65', '82', '53', '87', '0', '4', '52', '50', '80', '51', '40', '49', '56', '75', '58', '34', '54', '81', '9', '55', '41', '11', '93', '62', '12', '1', '35', '14', '43', '18', '91', '28', '74', '96', '89', '39', '38'}                                                   \n",
      "-t state | -p {\"pi_id\": 12, \"step\": 228, \"state\": \"I2_a\"}\n",
      "-t state | -p {\"pi_id\": 77, \"step\": 228, \"state\": \"I2_s\"}8', '23', '90', '66', '17', '95', '57', '71', '42', '59', '79', '77', '61', '15', '29', '88', '36', '47', '85', '97', '26', '86', '21', '31', '64', '92', '98', '60', '63', '19', '10', '37', '13', '24', '8', '6', '16', '32', '65', '82', '53', '87', '0', '4', '52', '50', '80', '51', '40', '49', '56', '75', '58', '34', '54', '81', '55', '41', '11', '93', '62', '12', '1', '35', '14', '43', '18', '91', '28', '74', '96', '89', '39', '38'}                                                        \n",
      "-t state | -p {\"pi_id\": 50, \"step\": 228, \"state\": \"I2_s\"}\n",
      "-t state | -p {\"pi_id\": 51, \"step\": 228, \"state\": \"I2_a\"}8', '23', '90', '66', '17', '95', '57', '71', '42', '59', '79', '77', '61', '15', '29', '88', '36', '85', '97', '26', '86', '21', '31', '64', '92', '98', '60', '63', '19', '10', '37', '13', '24', '8', '6', '16', '32', '65', '82', '53', '87', '0', '4', '52', '50', '80', '51', '40', '49', '56', '75', '58', '34', '54', '81', '55', '41', '11', '93', '62', '12', '1', '35', '14', '43', '18', '91', '28', '74', '96', '89', '39', '38'}                                                   \n",
      "-t state | -p {\"pi_id\": 88, \"state\": \"I2_a\", \"step\": 228}\n",
      "-t state | -p {\"pi_id\": 52, \"step\": 228, \"state\": \"I2_s\"}3', '90', '66', '17', '95', '57', '71', '42', '59', '79', '77', '61', '15', '29', '88', '36', '85', '97', '26', '86', '21', '31', '64', '92', '98', '60', '63', '19', '10', '37', '13', '24', '8', '6', '16', '32', '65', '82', '53', '87', '0', '4', '52', '50', '80', '51', '40', '49', '56', '75', '58', '34', '54', '81', '55', '41', '11', '93', '62', '12', '1', '35', '14', '43', '18', '91', '28', '74', '96', '89', '39', '38'}                                                   \n",
      "-t state | -p {\"pi_id\": 53, \"step\": 228, \"state\": \"I2_a\"}\n",
      "-t state | -p {\"pi_id\": 13, \"step\": 228, \"state\": \"I2_a\"}\n",
      "-t state | -p {\"pi_id\": 14, \"step\": 228, \"state\": \"I2_s\"}\n",
      "-t state | -p {\"pi_id\": 15, \"step\": 228, \"state\": \"I2_a\"}\n",
      "-t state | -p {\"pi_id\": 78, \"step\": 228, \"state\": \"I2_a\"}\n",
      "-t state | -p {\"pi_id\": 16, \"step\": 228, \"state\": \"S_a\"}23', '90', '66', '17', '95', '57', '71', '42', '59', '79', '61', '15', '29', '88', '36', '85', '97', '26', '86', '21', '31', '64', '92', '98', '60', '63', '19', '37', '13', '24', '8', '6', '16', '32', '65', '82', '53', '87', '0', '4', '52', '80', '51', '40', '56', '58', '34', '54', '81', '55', '41', '93', '62', '1', '35', '14', '43', '18', '91', '28', '74', '96', '89', '39', '38'}                                                                                       \n",
      "-t state | -p {\"pi_id\": 89, \"state\": \"I2_s\", \"step\": 228}3', '90', '66', '17', '95', '57', '71', '42', '59', '79', '61', '15', '29', '88', '36', '85', '97', '26', '86', '21', '31', '64', '92', '98', '60', '63', '19', '37', '24', '8', '6', '16', '32', '65', '82', '53', '87', '0', '4', '52', '80', '51', '40', '56', '58', '34', '54', '81', '55', '41', '93', '62', '1', '35', '14', '43', '18', '91', '28', '74', '96', '89', '39', '38'}                                                   \n",
      "-t state | -p {\"pi_id\": 90, \"state\": \"I2_s\", \"step\": 228}\n",
      "-t state | -p {\"pi_id\": 79, \"step\": 228, \"state\": \"I2_a\"}\n",
      "-t state | -p {\"pi_id\": 60, \"step\": 228, \"state\": \"I2_a\"}3', '90', '66', '17', '95', '57', '71', '42', '59', '79', '61', '15', '29', '88', '36', '85', '97', '26', '86', '21', '31', '64', '92', '98', '60', '63', '19', '37', '24', '8', '6', '16', '32', '65', '82', '53', '0', '4', '52', '80', '51', '40', '56', '58', '34', '54', '81', '55', '41', '93', '62', '1', '35', '14', '43', '18', '91', '28', '74', '96', '89', '39', '38'}                                                   \n",
      "-t state | -p {\"pi_id\": 61, \"step\": 228, \"state\": \"I2_a\"}6', '17', '95', '57', '71', '42', '59', '79', '61', '15', '29', '88', '36', '85', '97', '26', '86', '21', '31', '64', '92', '98', '60', '63', '19', '37', '24', '8', '6', '16', '32', '65', '82', '53', '0', '4', '52', '51', '40', '56', '58', '34', '54', '55', '41', '93', '62', '1', '35', '14', '43', '18', '91', '28', '74', '96', '89', '39', '38'}                                                                     \n",
      "-t state | -p {\"pi_id\": 17, \"step\": 228, \"state\": \"I2_a\"}\n",
      "-t state | -p {\"pi_id\": 54, \"step\": 228, \"state\": \"I2_a\"}6', '17', '95', '57', '71', '42', '59', '79', '61', '29', '88', '36', '85', '97', '26', '86', '21', '31', '64', '92', '98', '60', '19', '37', '24', '8', '6', '16', '32', '65', '82', '53', '0', '4', '52', '51', '40', '56', '58', '34', '54', '55', '41', '93', '62', '1', '35', '43', '18', '91', '28', '74', '96', '89', '39', '38'}                                                               \n",
      "-t state | -p {\"pi_id\": 55, \"step\": 228, \"state\": \"I2_a\"}\n",
      "-t state | -p {\"pi_id\": 62, \"step\": 228, \"state\": \"I2_a\"}6', '17', '95', '57', '71', '42', '59', '79', '61', '29', '88', '36', '85', '97', '26', '86', '21', '31', '64', '92', '98', '60', '19', '37', '24', '8', '6', '16', '32', '65', '82', '53', '0', '4', '52', '40', '56', '58', '34', '54', '55', '41', '93', '62', '1', '35', '43', '18', '91', '28', '74', '96', '89', '39', '38'}                                                   \n",
      "-t state | -p {\"pi_id\": 18, \"step\": 228, \"state\": \"I2_s\"}6', '17', '95', '57', '71', '42', '59', '79', '61', '29', '88', '36', '85', '97', '26', '86', '21', '31', '64', '92', '98', '60', '19', '37', '24', '8', '6', '16', '32', '65', '82', '53', '0', '52', '40', '56', '58', '34', '54', '55', '41', '93', '62', '1', '35', '43', '18', '91', '28', '74', '96', '89', '39', '38'}                                                   \n",
      "-t state | -p {\"pi_id\": 19, \"step\": 228, \"state\": \"I2_a\"}6', '17', '95', '57', '71', '42', '59', '79', '61', '29', '88', '36', '97', '26', '86', '21', '31', '64', '92', '98', '60', '19', '37', '24', '8', '6', '16', '32', '65', '82', '53', '0', '52', '40', '56', '58', '34', '54', '55', '41', '93', '62', '1', '35', '43', '18', '91', '28', '74', '96', '89', '39', '38'}                                                   \n",
      "-t state | -p {\"pi_id\": 91, \"state\": \"S_s\", \"step\": 228}\n",
      "-t state | -p {\"pi_id\": 63, \"step\": 228, \"state\": \"I2_s\"}6', '17', '95', '57', '71', '42', '59', '79', '61', '29', '88', '36', '97', '26', '86', '21', '31', '64', '92', '98', '60', '19', '37', '24', '8', '6', '32', '65', '82', '53', '0', '52', '40', '56', '58', '34', '54', '55', '41', '93', '62', '1', '35', '43', '18', '91', '28', '74', '96', '89', '39', '38'}                                                   \n"
     ]
    },
    {
     "name": "stdout",
     "output_type": "stream",
     "text": [
      "-t state | -p {\"pi_id\": 92, \"state\": \"I2_a\", \"step\": 228}7', '95', '57', '71', '42', '59', '61', '29', '36', '97', '26', '86', '21', '31', '92', '98', '60', '19', '37', '24', '8', '6', '32', '82', '53', '0', '52', '40', '56', '58', '34', '54', '55', '41', '93', '62', '1', '35', '43', '18', '91', '28', '74', '96', '89', '39', '38'}                                                                           \n",
      "-t state | -p {\"pi_id\": 56, \"step\": 228, \"state\": \"I2_a\"}5', '57', '42', '59', '61', '29', '36', '97', '26', '86', '21', '31', '92', '98', '60', '19', '37', '24', '8', '6', '32', '82', '53', '0', '52', '40', '56', '58', '34', '54', '55', '41', '93', '62', '1', '35', '43', '18', '91', '28', '74', '96', '39', '38'}                                                               \n",
      "-t state | -p {\"pi_id\": 93, \"state\": \"I2_s\", \"step\": 228}5', '57', '42', '59', '61', '29', '36', '97', '26', '86', '21', '31', '92', '98', '60', '19', '37', '24', '8', '6', '32', '82', '0', '52', '40', '56', '58', '34', '54', '55', '41', '93', '62', '1', '35', '43', '18', '91', '28', '96', '39', '38'}                                                         \n",
      "-t state | -p {\"pi_id\": 57, \"step\": 228, \"state\": \"I2_a\"}5', '57', '42', '59', '61', '29', '36', '97', '26', '86', '21', '31', '92', '98', '60', '19', '37', '24', '8', '6', '32', '82', '0', '52', '40', '56', '58', '34', '54', '55', '41', '93', '62', '1', '35', '18', '91', '28', '96', '39', '38'}                                                   \n",
      "-t state | -p {\"pi_id\": 94, \"state\": \"I2_a\", \"step\": 228}5', '57', '42', '59', '61', '29', '36', '97', '26', '86', '21', '31', '92', '98', '60', '19', '37', '24', '8', '6', '32', '82', '0', '52', '40', '56', '58', '34', '55', '41', '93', '62', '1', '35', '18', '91', '28', '96', '39', '38'}                                                   \n",
      "-t state | -p {\"pi_id\": 95, \"state\": \"I2_s\", \"step\": 228}7', '42', '59', '61', '29', '36', '97', '26', '86', '21', '31', '92', '98', '60', '19', '37', '24', '6', '32', '82', '0', '52', '40', '56', '58', '34', '55', '41', '93', '62', '1', '35', '18', '28', '96', '39', '38'}                                                               \n",
      "-t state | -p {\"pi_id\": 58, \"step\": 228, \"state\": \"I2_s\"}7', '42', '59', '61', '29', '36', '26', '86', '21', '31', '60', '19', '37', '24', '6', '32', '82', '0', '52', '40', '56', '58', '34', '55', '41', '93', '62', '1', '35', '18', '28', '39', '38'}                                                                     \n",
      "-t state | -p {\"pi_id\": 59, \"step\": 228, \"state\": \"S_a\"}57', '42', '61', '29', '36', '26', '86', '21', '31', '60', '19', '37', '24', '32', '82', '0', '52', '40', '56', '58', '34', '41', '93', '62', '1', '35', '18', '28', '39', '38'}                                                              \n",
      "{'22', '27', '33', '94', '30', '20', '25', '23', '17', '42', '61', '29', '36', '26', '86', '21', '31', '60', '19', '37', '24', '32', '82', '0', '52', '40', '56', '34', '41', '93', '1', '35', '18', '28', '39', '38'}                                                               \r"
     ]
    }
   ],
   "source": [
    "mqttc.publish('start', 'dummy_msg', qos=2)"
   ]
  }
 ],
 "metadata": {
  "kernelspec": {
   "display_name": "Python 3",
   "language": "python",
   "name": "python3"
  },
  "language_info": {
   "codemirror_mode": {
    "name": "ipython",
    "version": 3
   },
   "file_extension": ".py",
   "mimetype": "text/x-python",
   "name": "python",
   "nbconvert_exporter": "python",
   "pygments_lexer": "ipython3",
   "version": "3.6.7"
  }
 },
 "nbformat": 4,
 "nbformat_minor": 2
}
