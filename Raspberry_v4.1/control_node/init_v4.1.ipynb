{
 "cells": [
  {
   "cell_type": "code",
   "execution_count": 1,
   "metadata": {},
   "outputs": [],
   "source": [
    "import paho.mqtt.client as paho\n",
    "import numpy as np\n",
    "import random\n",
    "import json\n",
    "import networkx as nx\n",
    "from node import EpidemicGraph, TransitionDiagram, calc_R0\n",
    "import matplotlib.pyplot as plt\n",
    "import matplotlib.patches as mpatches\n",
    "from datetime import datetime\n",
    "from IPython.display import clear_output\n",
    "import math\n",
    "# %matplotlib inline"
   ]
  },
  {
   "cell_type": "code",
   "execution_count": 2,
   "metadata": {},
   "outputs": [],
   "source": [
    "t = [' ' for i in range(50)]\n",
    "flush = ''.join(t)\n",
    "# broker_ip = 'localhost'\n",
    "broker_ip = '10.101.21.2'\n",
    "# broker_ip = '192.168.0.101' \n",
    "connflag = False"
   ]
  },
  {
   "cell_type": "code",
   "execution_count": 3,
   "metadata": {},
   "outputs": [],
   "source": [
    "def plot(G, title='step_1', ns=1000, fs=12, lim=2, figsize=(5, 5)):\n",
    "    pos = nx.get_node_attributes(G, 'position')\n",
    "    ids = {i:i for i in range(N)}\n",
    "#     print('Total node number', N)\n",
    "\n",
    "    s_a = [x for x,y in G.nodes(data=True) if y['state']=='S_a']\n",
    "    s_s = [x for x,y in G.nodes(data=True) if y['state']=='S_s']\n",
    "    i1_a = [x for x,y in G.nodes(data=True) if y['state']=='I1_a']\n",
    "    i1_s = [x for x,y in G.nodes(data=True) if y['state']=='I1_s']\n",
    "    i2_a = [x for x,y in G.nodes(data=True) if y['state']=='I2_a']\n",
    "    i2_s = [x for x,y in G.nodes(data=True) if y['state']=='I2_s']\n",
    "\n",
    "\n",
    "    fig = plt.figure(figsize=figsize)\n",
    "    nx.draw_networkx_edges(G, pos, alpha=0.8)\n",
    "    nx.draw_networkx_nodes(G, pos, node_size=ns, nodelist=s_a, node_color='#66ff99')\n",
    "    nx.draw_networkx_nodes(G, pos, node_size=ns, nodelist=s_s, node_color='#006600')\n",
    "    nx.draw_networkx_nodes(G, pos, node_size=ns, nodelist=i1_a, node_color='#ff6666')\n",
    "    nx.draw_networkx_nodes(G, pos, node_size=ns, nodelist=i1_s, node_color='#cc0000')\n",
    "    nx.draw_networkx_nodes(G, pos, node_size=ns, nodelist=i2_a, node_color='#3399ff')\n",
    "    nx.draw_networkx_nodes(G, pos, node_size=ns, nodelist=i2_s, node_color='#0000cc')\n",
    "    nx.draw_networkx_labels(G, pos, ids, font_size=fs)\n",
    "\n",
    "    plt.title(title)\n",
    "    red_patch = mpatches.Patch(color='red', label='I1')\n",
    "    blue_patch = mpatches.Patch(color='blue', label='I2')\n",
    "    green_patch = mpatches.Patch(color='green', label='S')\n",
    "    plt.legend(handles=[green_patch, red_patch, blue_patch])\n",
    "    plt.xlim(0, lim)\n",
    "    plt.ylim(0, lim)\n",
    "    return plt, fig"
   ]
  },
  {
   "cell_type": "code",
   "execution_count": 4,
   "metadata": {},
   "outputs": [
    {
     "data": {
      "text/plain": [
       "(0, 2)"
      ]
     },
     "execution_count": 4,
     "metadata": {},
     "output_type": "execute_result"
    },
    {
     "name": "stdout",
     "output_type": "stream",
     "text": [
      "Connection returned result: 0\n"
     ]
    }
   ],
   "source": [
    "mqttc = paho.Client()\n",
    "# mqttc.max_inflight_messages_set(0)\n",
    "counter = 0\n",
    "N = None\n",
    "format_date = \"%d %b %Y %H%M%S.%f\"\n",
    "\n",
    "def on_connect(client, userdata, flags, rc):\n",
    "    global connflag\n",
    "    #if connection is successful, rc value will be 0\n",
    "    print(\"Connection returned result: \" + str(rc) )\n",
    "    connflag = True\n",
    "\n",
    "def on_message(client, userdata, msg): \n",
    "    print(\"-t {} | -p {}\".format(msg.topic, msg.payload.decode()) )\n",
    "    \n",
    "def on_state(client, userdata, msg): \n",
    "    global G, counter\n",
    "    name = datetime.now().strftime(format_date)\n",
    "    js = json.loads(msg.payload.decode())\n",
    "    G.node[js['pi_id']]['state'] = js['state']\n",
    "    if not js['r']:\n",
    "        log = \"-t {} | -p {}\".format(msg.topic, msg.payload.decode())\n",
    "        print(log, js['r'])\n",
    "        with open(\"log.txt\", \"a\") as myfile:\n",
    "            myfile.write(\"{},{}\\n\".format(name, log))\n",
    "        \n",
    "def on_finish(client, userdata, msg):  # on finish \n",
    "    global node_set\n",
    "#     log = \"-t {} | -p {}\".format(msg.topic, msg.payload.decode())\n",
    "#     with open(\"log_node_set.txt\", \"a\") as myfile:\n",
    "#         myfile.write(\"{}\\n\".format(log))\n",
    "#     node_id = msg.payload.decode()\n",
    "    js = json.loads(msg.payload.decode())\n",
    "    if not isinstance(js, dict):\n",
    "        js = json.loads(js)\n",
    "    node_id = str(js['pi_id'])\n",
    "    node_set.discard(node_id)\n",
    "    print(node_set, flush, end='\\r')\n",
    "#     with open(\"log_node_set.txt\", \"a\") as myfile:\n",
    "#         myfile.write(\"{},{}\\n\".format(node_set))\n",
    "    if len(node_set) == 0:\n",
    "#         mqttc.publish('next', 'dummy_msg', qos=2)\n",
    "        node_set = {str(x) for x in range(N)}\n",
    "#         if counter%N == 0:\n",
    "#             name = datetime.now().strftime(format_date)\n",
    "#             plt, fig = plot(G, 'step {}'.format(js['step']), **plt_set)\n",
    "#             fig.savefig('figures/{}.png'.format(name))\n",
    "#             plt.close()\n",
    "        clear_output(wait=True)\n",
    "\n",
    "def on_finish_trans(client, userdata, msg):  # on finish step\n",
    "    global node_set\n",
    "    log = \"-t {} | -p {}\".format(msg.topic, msg.payload.decode())\n",
    "    with open(\"log_node_set.txt\", \"a\") as myfile:\n",
    "        myfile.write(\"{}\\n\".format(log))\n",
    "    node_id = msg.payload.decode()\n",
    "    node_set.discard(node_id)\n",
    "    print(node_set, flush, end='\\r')\n",
    "#     with open(\"log_node_set.txt\", \"a\") as myfile:\n",
    "#         myfile.write(\"{},{}\\n\".format(node_set))\n",
    "    if len(node_set) == 0:\n",
    "#         mqttc.publish('next', 'dummy_msg', qos=2)\n",
    "        node_set = {str(x) for x in range(N)}\n",
    "#         clear_output(wait=True)\n",
    "\n",
    "    \n",
    "qos = 2\n",
    "mqttc.on_connect = on_connect\n",
    "mqttc.on_message = on_message\n",
    "mqttc.message_callback_add(\"state\", on_state)\n",
    "mqttc.message_callback_add(\"finish\", on_finish)\n",
    "mqttc.message_callback_add(\"finish_trans\", on_finish_trans)\n",
    "\n",
    "mqttc.connect(broker_ip)\n",
    "mqttc.loop_start()\n",
    "mqttc.subscribe('state', qos)\n",
    "mqttc.subscribe('finish', qos)\n",
    "# mqttc.subscribe('finish_trans', qos)"
   ]
  },
  {
   "cell_type": "code",
   "execution_count": 5,
   "metadata": {},
   "outputs": [
    {
     "name": "stdout",
     "output_type": "stream",
     "text": [
      "((1.5247230679465125+0j), (13.556297716920376+0j)) (1, 0)\n",
      "((1.5247230679465125+0j), (13.556297716920376+0j))\n"
     ]
    },
    {
     "name": "stderr",
     "output_type": "stream",
     "text": [
      "/home/dd/.virtualenvs/pi/lib/python3.6/site-packages/networkx/drawing/nx_pylab.py:611: MatplotlibDeprecationWarning: isinstance(..., numbers.Number)\n",
      "  if cb.is_numlike(alpha):\n"
     ]
    },
    {
     "data": {
      "image/png": "[encoded data removed]",
      "text/plain": [
       "<Figure size 504x504 with 1 Axes>"
      ]
     },
     "metadata": {
      "needs_background": "light"
     },
     "output_type": "display_data"
    }
   ],
   "source": [
    "# 0.04 0.05|0.04 0.04|0.3 0.3  |0.05 0.2 |0.04 0.1   R1<1 R2<1    \n",
    "# 0.04 0.15|0.04 0.04|0.25 0.07|0.06 0.12|0.05 0.15  R1<1 R2>1\n",
    "# 0.25 0.05|0.04 0.04|0.25 0.5 |0.05 0.12|0.04 0.15  R1>1 R2<1\n",
    "# 0.25 0.35|0.04 0.04|0.04 0.35|0.06 0.07|0.05 0.06  R1>1 R2>1\n",
    "# paramet = {    # R1<1 R2<1  \n",
    "#         'alpha': [0.04, 0.05], # infect rate \n",
    "#         'mu': [0.04, 0.04], # sleep s \n",
    "#         'gamma': [0.3, 0.3], # rec rate \n",
    "#         'lambda': [0.05, 0.2], # sleep I1 \n",
    "#         'kappa': [0.04, 0.1] # sleep I2    % [I2_s -> I2_a, I2_a -> I2_s]\n",
    "#     }\n",
    "# paramet = {    # R1<1 R2<1  \n",
    "#         'alpha': [0.04, 0.15], # infect rate \n",
    "#         'mu': [0.04, 0.04], # sleep s \n",
    "#         'gamma': [0.25, 0.07], # rec rate \n",
    "#         'lambda': [0.06, 0.12], # sleep I1 \n",
    "#         'kappa': [0.04, 0.15] # sleep I2    % [I2_s -> I2_a, I2_a -> I2_s]\n",
    "#     }\n",
    "# paramet = {    # R1<1 R2<1  \n",
    "#         'alpha': [0.04, 0.05], # infect rate \n",
    "#         'mu': [0.04, 0.04], # sleep s \n",
    "#         'gamma': [0.3, 0.3], # rec rate \n",
    "#         'lambda': [0.05, 0.2], # sleep I1 \n",
    "#         'kappa': [0.04, 0.1] # sleep I2    % [I2_s -> I2_a, I2_a -> I2_s]\n",
    "#     }\n",
    "# paramet = {    # R1<1 R2<1  \n",
    "#         'alpha': [0.04, 0.05], # infect rate \n",
    "#         'mu': [0.04, 0.04], # sleep s \n",
    "#         'gamma': [0.3, 0.3], # rec rate \n",
    "#         'lambda': [0.05, 0.2], # sleep I1 \n",
    "#         'kappa': [0.04, 0.1] # sleep I2    % [I2_s -> I2_a, I2_a -> I2_s]\n",
    "#     }\n",
    "paramet = {\n",
    "        'alpha': [0.1, 0.35], # infect rate \n",
    "        'mu': [0.02, 0.02], # sleep s \n",
    "        'gamma': [0.15, 0.02], # rec rate \n",
    "        'lambda': [0.03, 0.04], # sleep I1 \n",
    "        'kappa': [0.04, 0.05] # sleep I2    % [I2_s -> I2_a, I2_a -> I2_s]\n",
    "    }\n",
    "np.random.seed(315)  # structure\n",
    "random.seed(6)       # infected\n",
    "N = 40\n",
    "r = 1.5\n",
    "number_subgraphs = 0\n",
    "node_set = {str(x) for x in range(N)}\n",
    "\n",
    "while number_subgraphs != 1:\n",
    "    a = EpidemicGraph(N,r,paramet,I1_a=4, I2_a=4, grid_size=[math.sqrt(N), math.sqrt(N)], create=True) # net='Uniform Grid'\n",
    "#     a.load_csv('100 nodes.csv',10,10)\n",
    "    number_subgraphs = len(list(nx.connected_component_subgraphs(a.G)))\n",
    "    number_isolated_nodes = len(list(nx.isolates(a.G)))\n",
    "    print(calc_R0(a.G, paramet), (number_subgraphs, number_isolated_nodes))\n",
    "\n",
    "G = a.G\n",
    "# G.node[0]['state'] = 'S_s'\n",
    "print(calc_R0(a.G, paramet))\n",
    "plt_set = {\n",
    "    'ns': 200, \n",
    "    'fs': 10,\n",
    "    'lim': math.sqrt(N) +0.1, \n",
    "    'figsize': (7,7)\n",
    "}\n",
    "plt, fig = plot(G, **plt_set) #  ns=300, fs=6,lim=5\n",
    "plt.show()\n",
    "fig.savefig('figures/_.png')\n",
    "with open(\"log.txt\", \"w\") as myfile:\n",
    "    myfile.write(\"\")"
   ]
  },
  {
   "cell_type": "code",
   "execution_count": 6,
   "metadata": {
    "scrolled": true
   },
   "outputs": [
    {
     "name": "stdout",
     "output_type": "stream",
     "text": [
      "{'id': 0, 'state': 'I2_a', 'neighbours': [22, 27, 30, 32, 37]}\n",
      "{'id': 1, 'state': 'S_a', 'neighbours': [13, 18, 21, 34, 39]}\n",
      "{'id': 2, 'state': 'I2_a', 'neighbours': [8, 10, 25, 30, 35]}\n",
      "{'id': 3, 'state': 'S_a', 'neighbours': [7, 19, 31, 38]}\n",
      "{'id': 4, 'state': 'S_a', 'neighbours': [11, 14, 24, 28, 33]}\n",
      "{'id': 5, 'state': 'I1_a', 'neighbours': [9, 16, 23, 26]}\n",
      "{'id': 6, 'state': 'S_a', 'neighbours': [7, 16, 34, 38]}\n",
      "{'id': 7, 'state': 'S_a', 'neighbours': [3, 6, 17, 19, 31, 38]}\n",
      "{'id': 8, 'state': 'S_a', 'neighbours': [2, 10, 25, 30, 35]}\n",
      "{'id': 9, 'state': 'I2_a', 'neighbours': [5, 16, 23, 26]}\n",
      "{'id': 10, 'state': 'S_a', 'neighbours': [2, 8, 12, 25, 30, 35]}\n",
      "{'id': 11, 'state': 'S_a', 'neighbours': [4, 17, 20, 28, 31, 33]}\n",
      "{'id': 12, 'state': 'S_a', 'neighbours': [10]}\n",
      "{'id': 13, 'state': 'S_a', 'neighbours': [1, 23, 34, 36, 37]}\n",
      "{'id': 14, 'state': 'S_a', 'neighbours': [4, 24, 28, 29, 33]}\n",
      "{'id': 15, 'state': 'S_a', 'neighbours': [29, 30]}\n",
      "{'id': 16, 'state': 'I1_a', 'neighbours': [5, 6, 9, 17, 23, 34, 38]}\n",
      "{'id': 17, 'state': 'S_a', 'neighbours': [7, 11, 16, 19, 20, 31]}\n",
      "{'id': 18, 'state': 'S_a', 'neighbours': [1, 34, 39]}\n",
      "{'id': 19, 'state': 'S_a', 'neighbours': [3, 7, 17, 20, 31]}\n",
      "{'id': 20, 'state': 'S_a', 'neighbours': [11, 17, 19, 31]}\n",
      "{'id': 21, 'state': 'S_a', 'neighbours': [1, 39]}\n",
      "{'id': 22, 'state': 'S_a', 'neighbours': [0, 32]}\n",
      "{'id': 23, 'state': 'S_a', 'neighbours': [5, 9, 13, 16, 26, 27, 37]}\n",
      "{'id': 24, 'state': 'S_a', 'neighbours': [4, 14, 28, 29, 33]}\n",
      "{'id': 25, 'state': 'S_a', 'neighbours': [2, 8, 10, 30, 35]}\n",
      "{'id': 26, 'state': 'S_a', 'neighbours': [5, 9, 23]}\n",
      "{'id': 27, 'state': 'S_a', 'neighbours': [0, 23, 30, 37]}\n",
      "{'id': 28, 'state': 'S_a', 'neighbours': [4, 11, 14, 24, 33]}\n",
      "{'id': 29, 'state': 'S_a', 'neighbours': [14, 15, 24]}\n",
      "{'id': 30, 'state': 'I2_a', 'neighbours': [0, 2, 8, 10, 15, 25, 27, 35]}\n",
      "{'id': 31, 'state': 'I1_a', 'neighbours': [3, 7, 11, 17, 19, 20]}\n",
      "{'id': 32, 'state': 'S_a', 'neighbours': [0, 22, 36]}\n",
      "{'id': 33, 'state': 'S_a', 'neighbours': [4, 11, 14, 24, 28]}\n",
      "{'id': 34, 'state': 'S_a', 'neighbours': [1, 6, 13, 16, 18]}\n",
      "{'id': 35, 'state': 'S_a', 'neighbours': [2, 8, 10, 25, 30]}\n",
      "{'id': 36, 'state': 'I1_a', 'neighbours': [13, 32]}\n",
      "{'id': 37, 'state': 'S_a', 'neighbours': [0, 13, 23, 27]}\n",
      "{'id': 38, 'state': 'S_a', 'neighbours': [3, 6, 7, 16]}\n",
      "{'id': 39, 'state': 'S_a', 'neighbours': [1, 18, 21]}\n"
     ]
    },
    {
     "data": {
      "text/plain": [
       "<paho.mqtt.client.MQTTMessageInfo at 0x7f86d98f9f48>"
      ]
     },
     "execution_count": 6,
     "metadata": {},
     "output_type": "execute_result"
    }
   ],
   "source": [
    "G.node[1]\n",
    "node_set = {str(x) for x in range(N)}\n",
    "msg_list = []\n",
    "for node_id in range(N):\n",
    "    neighbours = list(G[node_id])\n",
    "    msg = {\n",
    "        \"id\": node_id,\n",
    "        \"state\": G.node[node_id]['state'],\n",
    "        \"neighbours\": neighbours\n",
    "    }\n",
    "    msg_list.append(msg)\n",
    "    print(msg)\n",
    "    \n",
    "mqttc.publish('init', json.dumps(msg_list), qos)\n",
    "mqttc.publish('paramet', json.dumps(paramet), qos)"
   ]
  },
  {
   "cell_type": "code",
   "execution_count": 7,
   "metadata": {},
   "outputs": [],
   "source": [
    "# mqttc.publish('paramet', json.dumps(paramet), qos)"
   ]
  },
  {
   "cell_type": "code",
   "execution_count": 8,
   "metadata": {},
   "outputs": [],
   "source": [
    "# node_set = {x: str(x) for x in range(5)}\n",
    "# # mqttc.publish('finish', '14', qos=2)\n",
    "# unwanted = ['1','2','3','4','0'] # set()\n",
    "# {e for e in node_set if e not in unwanted}\n",
    "# random.sample(list(node_set.values()), len(node_set.values()))"
   ]
  },
  {
   "cell_type": "code",
   "execution_count": 9,
   "metadata": {},
   "outputs": [],
   "source": [
    "# mqttc.loop_stop()"
   ]
  },
  {
   "cell_type": "code",
   "execution_count": 10,
   "metadata": {},
   "outputs": [],
   "source": [
    "# mqttc.publish('nextstep', 'dummy_msg', qos=2)"
   ]
  },
  {
   "cell_type": "code",
   "execution_count": 11,
   "metadata": {},
   "outputs": [],
   "source": [
    "# mqttc.publish('stop', 'dummy_msg', qos=2)"
   ]
  },
  {
   "cell_type": "code",
   "execution_count": 12,
   "metadata": {},
   "outputs": [],
   "source": [
    "# mqttc.publish('kill', 'process die', qos=2)"
   ]
  },
  {
   "cell_type": "code",
   "execution_count": 13,
   "metadata": {},
   "outputs": [],
   "source": [
    "# mqttc.publish('paramet', json.dumps(paramet), qos=2)\n",
    "# mqttc.publish('finish', str(92), qos=2)"
   ]
  },
  {
   "cell_type": "code",
   "execution_count": 14,
   "metadata": {},
   "outputs": [
    {
     "name": "stdout",
     "output_type": "stream",
     "text": [
      "{'9', '4', '34', '33', '39', '20', '5', '11', '23', '15', '1', '13', '22', '17', '18'}                                                                                                                                                                                             \r"
     ]
    }
   ],
   "source": [
    "mqttc.publish('start', 'dummy_msg', qos)"
   ]
  }
 ],
 "metadata": {
  "kernelspec": {
   "display_name": "Python 3",
   "language": "python",
   "name": "python3"
  },
  "language_info": {
   "codemirror_mode": {
    "name": "ipython",
    "version": 3
   },
   "file_extension": ".py",
   "mimetype": "text/x-python",
   "name": "python",
   "nbconvert_exporter": "python",
   "pygments_lexer": "ipython3",
   "version": "3.6.7"
  }
 },
 "nbformat": 4,
 "nbformat_minor": 2
}
