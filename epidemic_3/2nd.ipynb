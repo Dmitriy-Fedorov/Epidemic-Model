{
 "cells": [
  {
   "cell_type": "code",
   "execution_count": 1,
   "metadata": {},
   "outputs": [
    {
     "name": "stderr",
     "output_type": "stream",
     "text": [
      "C:\\Users\\DFed\\Anaconda3\\lib\\site-packages\\IPython\\nbformat.py:13: ShimWarning: The `IPython.nbformat` package has been deprecated since IPython 4.0. You should import from nbformat instead.\n",
      "  \"You should import from nbformat instead.\", ShimWarning)\n"
     ]
    }
   ],
   "source": [
    "import matplotlib.pyplot as plt\n",
    "import numpy as np\n",
    "import networkx as nx\n",
    "import pandas as pd\n",
    "from numpy.random import uniform, randint\n",
    "from node import EpidemicGraph, TransitionDiagram, calc_R0\n",
    "from random import sample\n",
    "from pymatbridge import Matlab\n",
    "%matplotlib inline"
   ]
  },
  {
   "cell_type": "code",
   "execution_count": 2,
   "metadata": {},
   "outputs": [
    {
     "name": "stdout",
     "output_type": "stream",
     "text": [
      "Starting MATLAB on ZMQ socket tcp://127.0.0.1:2520\n",
      "Send 'exit' command to kill the server\n",
      ".....................MATLAB started and connected!\n"
     ]
    }
   ],
   "source": [
    "\n",
    "# mlab = Matlab(executable='C:\\Program Files\\MATLAB\\MATLAB Production Server\\R2015a\\bin\\matlab')\n",
    "mlab = Matlab(executable='matlab')\n",
    "try:\n",
    "    mlab.start()\n",
    "except e:\n",
    "    print(e)\n",
    "    mlab.stop()"
   ]
  },
  {
   "cell_type": "code",
   "execution_count": 4,
   "metadata": {},
   "outputs": [
    {
     "data": {
      "text/plain": [
       "{'content': {'stdout': '\\r\\na =\\r\\n\\r\\n     1\\r\\n\\r\\n',\n",
       "  'figures': [],\n",
       "  'datadir': 'C:\\\\Users\\\\DFed\\\\AppData\\\\Local\\\\Temp\\\\MatlabData\\\\'},\n",
       " 'result': [],\n",
       " 'success': True}"
      ]
     },
     "execution_count": 4,
     "metadata": {},
     "output_type": "execute_result"
    }
   ],
   "source": [
    "res = mlab.run_code('a=1')\n",
    "res"
   ]
  },
  {
   "cell_type": "code",
   "execution_count": 5,
   "metadata": {},
   "outputs": [
    {
     "data": {
      "text/plain": [
       "{'content': {'stdout': '\\r\\nR11 =\\r\\n\\r\\n    0.8699\\r\\n\\r\\n\\r\\nR21 =\\r\\n\\r\\n    1.4227\\r\\n\\r\\n\\r\\nans =\\r\\n\\r\\n    0.8770\\r\\n    1.4298\\r\\n\\r\\n',\n",
       "  'figures': [],\n",
       "  'datadir': 'C:\\\\Users\\\\DFed\\\\AppData\\\\Local\\\\Temp\\\\MatlabData\\\\'},\n",
       " 'result': [],\n",
       " 'success': True}"
      ]
     },
     "execution_count": 5,
     "metadata": {},
     "output_type": "execute_result"
    }
   ],
   "source": [
    "res = mlab.run_code(\n",
    "'''\n",
    "RunTime = 300;\n",
    "monte_rounds = 5;\n",
    "dim = [30,30]; \n",
    "global I1a_Initial I2a_Initial N dt \n",
    "N = dim(1)*dim(2);\n",
    "I1a_Initial = 10; %I1_A_Initial \n",
    "I2a_Initial = 10; %I2_A_Initial \n",
    "dt = 0.05;\n",
    "\n",
    "global alpha mu gamma lambda kappa\n",
    "alpha = [0.03, 0.06]; % infect rate \n",
    "mu = [0.14, 0.14]; % sleep s \n",
    "gamma = [0.35, 0.47]; % rec rate \n",
    "lambda = [0.05, 0.32]; % sleep I1 \n",
    "kappa = [0.04, 0.31]; % sleep I2    % [I2_s -> I2_a, I2_a -> I2_s]\n",
    "\n",
    "r0=3;\n",
    "Net2 = NetGen_Geo(N,r0,dim);\n",
    "NetRnd = NetCmbn({Net2, Net2});\n",
    "[R0_rnd,R1_rnd,R2_rnd] = calc_R0(NetRnd, alpha, mu, gamma, lambda, kappa, N);\n",
    "[R1_rnd;R2_rnd]\n",
    "%% Monte Dima\n",
    "x0_rnd = Initial_Cond_Gen(N,'Population',[3,5],[I1a_Initial,I2a_Initial]);\n",
    "Para = Para_active_sleep_SI1I2S(alpha, mu, gamma, lambda, kappa); \n",
    "M = Para{1}; \n",
    "StopCond={'RunTime', RunTime};\n",
    "\n",
    "% [t, rnd_stch] = monte_new(monte_rounds,N,Para,NetRnd,x0_rnd,StopCond,I1a_Initial,I2a_Initial);\n",
    "''')\n",
    "res\n"
   ]
  },
  {
   "cell_type": "code",
   "execution_count": 13,
   "metadata": {},
   "outputs": [
    {
     "data": {
      "text/plain": [
       "'The first input argument must be a full, non-complex numeric value.'"
      ]
     },
     "execution_count": 13,
     "metadata": {},
     "output_type": "execute_result"
    }
   ],
   "source": [
    "mlab.get_variable('NetRnd')"
   ]
  }
 ],
 "metadata": {
  "kernelspec": {
   "display_name": "Python 3",
   "language": "python",
   "name": "python3"
  },
  "language_info": {
   "codemirror_mode": {
    "name": "ipython",
    "version": 3
   },
   "file_extension": ".py",
   "mimetype": "text/x-python",
   "name": "python",
   "nbconvert_exporter": "python",
   "pygments_lexer": "ipython3",
   "version": "3.7.1"
  }
 },
 "nbformat": 4,
 "nbformat_minor": 2
}
