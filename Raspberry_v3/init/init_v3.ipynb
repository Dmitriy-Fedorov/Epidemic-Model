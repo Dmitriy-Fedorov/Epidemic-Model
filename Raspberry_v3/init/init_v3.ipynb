{
 "cells": [
  {
   "cell_type": "code",
   "execution_count": 1,
   "metadata": {},
   "outputs": [],
   "source": [
    "import paho.mqtt.client as paho\n",
    "import numpy as np\n",
    "import random\n",
    "import json\n",
    "import networkx as nx\n",
    "from node import EpidemicGraph, TransitionDiagram, calc_R0\n",
    "import matplotlib.pyplot as plt\n",
    "import matplotlib.patches as mpatches\n",
    "from datetime import datetime\n",
    "# %matplotlib inline"
   ]
  },
  {
   "cell_type": "code",
   "execution_count": 2,
   "metadata": {},
   "outputs": [],
   "source": [
    "broker_ip = '192.168.0.104'\n",
    "broker_ip = 'localhost'\n",
    "# broker_ip = '10.1.199.251'\n",
    "# broker_ip = '10.101.6.111'\n",
    "connflag = False"
   ]
  },
  {
   "cell_type": "code",
   "execution_count": 3,
   "metadata": {},
   "outputs": [],
   "source": [
    "def plot(G, title='step_1', ns=1000, fs=12, lim=2):\n",
    "    pos = nx.get_node_attributes(G, 'position')\n",
    "    ids = {i:i for i in range(N)}\n",
    "    print('Total node number', N)\n",
    "\n",
    "    s_a = [x for x,y in G.nodes(data=True) if y['state']=='S_a']\n",
    "    s_s = [x for x,y in G.nodes(data=True) if y['state']=='S_s']\n",
    "    i1_a = [x for x,y in G.nodes(data=True) if y['state']=='I1_a']\n",
    "    i1_s = [x for x,y in G.nodes(data=True) if y['state']=='I1_s']\n",
    "    i2_a = [x for x,y in G.nodes(data=True) if y['state']=='I2_a']\n",
    "    i2_s = [x for x,y in G.nodes(data=True) if y['state']=='I2_s']\n",
    "\n",
    "\n",
    "    fig = plt.figure(figsize=(5, 5))\n",
    "    nx.draw_networkx_edges(G, pos, alpha=0.8)\n",
    "    nx.draw_networkx_nodes(G, pos, node_size=ns, nodelist=s_a, node_color='#66ff99')\n",
    "    nx.draw_networkx_nodes(G, pos, node_size=ns, nodelist=s_s, node_color='#006600')\n",
    "    nx.draw_networkx_nodes(G, pos, node_size=ns, nodelist=i1_a, node_color='#ff6666')\n",
    "    nx.draw_networkx_nodes(G, pos, node_size=ns, nodelist=i1_s, node_color='#cc0000')\n",
    "    nx.draw_networkx_nodes(G, pos, node_size=ns, nodelist=i2_a, node_color='#3399ff')\n",
    "    nx.draw_networkx_nodes(G, pos, node_size=ns, nodelist=i2_s, node_color='#0000cc')\n",
    "    nx.draw_networkx_labels(G, pos, ids, font_size=fs)\n",
    "\n",
    "    plt.title(title)\n",
    "    red_patch = mpatches.Patch(color='red', label='I1')\n",
    "    blue_patch = mpatches.Patch(color='blue', label='I2')\n",
    "    green_patch = mpatches.Patch(color='green', label='S')\n",
    "    plt.legend(handles=[green_patch, red_patch, blue_patch])\n",
    "    plt.xlim(0, lim)\n",
    "    plt.ylim(0, lim)\n",
    "    return plt, fig"
   ]
  },
  {
   "cell_type": "code",
   "execution_count": 4,
   "metadata": {},
   "outputs": [
    {
     "data": {
      "text/plain": [
       "(0, 2)"
      ]
     },
     "execution_count": 4,
     "metadata": {},
     "output_type": "execute_result"
    },
    {
     "name": "stdout",
     "output_type": "stream",
     "text": [
      "Connection returned result: 0\n"
     ]
    }
   ],
   "source": [
    "mqttc = paho.Client()\n",
    "counter = 0\n",
    "N = 5\n",
    "def on_connect(client, userdata, flags, rc):\n",
    "    global connflag\n",
    "    #if connection is successful, rc value will be 0\n",
    "    print(\"Connection returned result: \" + str(rc) )\n",
    "    connflag = True\n",
    "\n",
    "def on_message(client, userdata, msg): \n",
    "    print(\"-t {} | -p {}\".format(msg.topic, msg.payload.decode()) )\n",
    "    \n",
    "def on_state(client, userdata, msg): \n",
    "    global G, counter\n",
    "    counter += 1\n",
    "    format_date = \"%d %b %Y %H%M%S.%f\"\n",
    "    name = datetime.now().strftime(format_date)\n",
    "    js = json.loads(msg.payload.decode())\n",
    "    G.node[js['id']]['state'] = js['state']\n",
    "    if counter%N == 0:\n",
    "        plt, fig = plot(G, 'step {}'.format((counter-1)//N))\n",
    "        fig.savefig('figures/{}.png'.format(name))\n",
    "        plt.close()\n",
    "    log = \"-t {} | -p {}\".format(msg.topic, msg.payload.decode())\n",
    "    print( log)\n",
    "    with open(\"log.txt\", \"a\") as myfile:\n",
    "        myfile.write(\"{},{}\\n\".format(name, log))\n",
    "        \n",
    "def on_finish(client, userdata, msg):  # on finish step\n",
    "    global node_set\n",
    "    print(\"-t {} | -p {}\".format(msg.topic, msg.payload.decode()) )\n",
    "    node_id = msg.payload.decode()\n",
    "    node_set.remove(node_id)\n",
    "    if len(node_set) == 0:\n",
    "        mqttc.publish('next', 'dummy_msg', qos=2)\n",
    "        node_set = {str(x) for x in range(N)}\n",
    "    \n",
    "    \n",
    "node_set = {str(x) for x in range(N)}\n",
    "mqttc.on_connect = on_connect\n",
    "mqttc.on_message = on_message\n",
    "mqttc.message_callback_add(\"state\", on_state)\n",
    "mqttc.message_callback_add(\"finish\", on_finish)\n",
    "\n",
    "mqttc.connect(broker_ip)\n",
    "mqttc.loop_start()\n",
    "mqttc.subscribe('state', 2)\n",
    "mqttc.subscribe('finish', 2)"
   ]
  },
  {
   "cell_type": "code",
   "execution_count": 5,
   "metadata": {},
   "outputs": [
    {
     "name": "stdout",
     "output_type": "stream",
     "text": [
      "(4.467960677340688, 4.467960677340688) (1, 0)\n",
      "Total node number 5\n"
     ]
    },
    {
     "name": "stderr",
     "output_type": "stream",
     "text": [
      "/home/dd/.virtualenvs/pi/lib/python3.6/site-packages/networkx/drawing/nx_pylab.py:611: MatplotlibDeprecationWarning: isinstance(..., numbers.Number)\n",
      "  if cb.is_numlike(alpha):\n"
     ]
    },
    {
     "data": {
      "image/png": "[encoded data removed]",
      "text/plain": [
       "<Figure size 360x360 with 1 Axes>"
      ]
     },
     "metadata": {
      "needs_background": "light"
     },
     "output_type": "display_data"
    }
   ],
   "source": [
    "paramet = {\n",
    "        'alpha': [0.5, 0.5], # infect rate \n",
    "        'mu': [0.5, 0.5], # sleep s \n",
    "        'gamma': [0.1, 0.1], # rec rate \n",
    "        'lambda': [0.7, 0.2], # sleep I1 \n",
    "        'kappa': [0.7, 0.2] # sleep I2    % [I2_s -> I2_a, I2_a -> I2_s]\n",
    "    }\n",
    "np.random.seed(787)\n",
    "random.seed(4)\n",
    "# N = 5\n",
    "r = 1\n",
    "number_subgraphs = 0\n",
    "\n",
    "while number_subgraphs != 1:\n",
    "    a = EpidemicGraph(N,r,paramet,I1_a=1, I2_a=1, grid_size=[2,2], create=True) # net='Uniform Grid'\n",
    "    number_subgraphs = len(list(nx.connected_component_subgraphs(a.G)))\n",
    "    number_isolated_nodes = len(list(nx.isolates(a.G)))\n",
    "    print(calc_R0(a.G, paramet), (number_subgraphs, number_isolated_nodes))\n",
    "\n",
    "G = a.G\n",
    "# G.node[0]['state'] = 'S_s'\n",
    "\n",
    "\n",
    "plt, fig = plot(G) #  ns=300, fs=6,lim=5\n",
    "# plt.show()\n",
    "fig.savefig('figures/_.png')"
   ]
  },
  {
   "cell_type": "code",
   "execution_count": 9,
   "metadata": {},
   "outputs": [
    {
     "name": "stdout",
     "output_type": "stream",
     "text": [
      "{'id': 0, 'state': 'S_a', 'neighbours': [2, 3]}\n",
      "{'id': 1, 'state': 'I1_a', 'neighbours': [2, 4]}\n",
      "{'id': 2, 'state': 'I2_a', 'neighbours': [0, 1, 3, 4]}\n",
      "{'id': 3, 'state': 'S_a', 'neighbours': [0, 2]}\n",
      "{'id': 4, 'state': 'S_a', 'neighbours': [1, 2]}\n"
     ]
    },
    {
     "data": {
      "text/plain": [
       "<paho.mqtt.client.MQTTMessageInfo at 0x7f565d5f7b38>"
      ]
     },
     "execution_count": 9,
     "metadata": {},
     "output_type": "execute_result"
    }
   ],
   "source": [
    "G.node[1]\n",
    "\n",
    "msg_list = []\n",
    "for node_id in range(N):\n",
    "    neighbours = list(G[node_id])\n",
    "    msg = {\n",
    "        \"id\": node_id,\n",
    "        \"state\": G.node[node_id]['state'],\n",
    "        \"neighbours\": neighbours\n",
    "    }\n",
    "    msg_list.append(msg)\n",
    "    print(msg)\n",
    "    \n",
    "mqttc.publish('init', json.dumps(msg_list))"
   ]
  },
  {
   "cell_type": "code",
   "execution_count": 8,
   "metadata": {},
   "outputs": [
    {
     "data": {
      "text/plain": [
       "{'0', '1', '2', '3', '4'}"
      ]
     },
     "execution_count": 8,
     "metadata": {},
     "output_type": "execute_result"
    }
   ],
   "source": [
    "# node_set = {str(x) for x in range(5)}\n",
    "# mqttc.publish('finish', 0, qos=2)\n",
    "node_set\n"
   ]
  },
  {
   "cell_type": "code",
   "execution_count": null,
   "metadata": {},
   "outputs": [],
   "source": [
    "mqttc.loop_stop()"
   ]
  },
  {
   "cell_type": "code",
   "execution_count": null,
   "metadata": {},
   "outputs": [],
   "source": [
    "mqttc.publish('next', 'dummy_msg', qos=2)"
   ]
  },
  {
   "cell_type": "code",
   "execution_count": null,
   "metadata": {},
   "outputs": [],
   "source": [
    "mqttc.publish('stop', 'dummy_msg', qos=2)"
   ]
  },
  {
   "cell_type": "code",
   "execution_count": null,
   "metadata": {},
   "outputs": [],
   "source": [
    "mqttc.publish('kill', 'process die', qos=2)"
   ]
  },
  {
   "cell_type": "code",
   "execution_count": null,
   "metadata": {},
   "outputs": [],
   "source": [
    "mqttc.publish('paramet', json.dumps(paramet), qos=2)"
   ]
  },
  {
   "cell_type": "code",
   "execution_count": 10,
   "metadata": {},
   "outputs": [
    {
     "data": {
      "text/plain": [
       "<paho.mqtt.client.MQTTMessageInfo at 0x7f565d59bc78>"
      ]
     },
     "execution_count": 10,
     "metadata": {},
     "output_type": "execute_result"
    },
    {
     "name": "stdout",
     "output_type": "stream",
     "text": [
      "-t state | -p {\"step\": 0, \"id\": 0, \"state\": \"S_a\"}\n",
      "-t state | -p {\"step\": 0, \"id\": 1, \"state\": \"I1_a\"}\n",
      "-t state | -p {\"step\": 0, \"id\": 2, \"state\": \"I2_a\"}\n",
      "-t state | -p {\"step\": 0, \"id\": 3, \"state\": \"S_a\"}\n",
      "Total node number 5\n",
      "-t state | -p {\"step\": 0, \"id\": 4, \"state\": \"S_a\"}\n"
     ]
    }
   ],
   "source": [
    "mqttc.publish('start', 'dummy_msg', qos=2)"
   ]
  },
  {
   "cell_type": "code",
   "execution_count": null,
   "metadata": {},
   "outputs": [],
   "source": [
    "mqttc.reinitialise()\n",
    "mqttc.loop_start()"
   ]
  },
  {
   "cell_type": "code",
   "execution_count": null,
   "metadata": {},
   "outputs": [],
   "source": [
    "# a = ['python node_{0}/pi_main_2.py node_{0}'.format(i) for i in range(0, 5)]\n",
    "# str.join(' & ', a)\n",
    "\n",
    "with open('node_id.json') as f:\n",
    "    my_id_list = json.load(f)\n",
    "\n",
    "my_nodes = {node_id: node_id**2 for node_id in my_id_list}\n"
   ]
  }
 ],
 "metadata": {
  "kernelspec": {
   "display_name": "Python 3",
   "language": "python",
   "name": "python3"
  },
  "language_info": {
   "codemirror_mode": {
    "name": "ipython",
    "version": 3
   },
   "file_extension": ".py",
   "mimetype": "text/x-python",
   "name": "python",
   "nbconvert_exporter": "python",
   "pygments_lexer": "ipython3",
   "version": "3.6.7"
  }
 },
 "nbformat": 4,
 "nbformat_minor": 2
}
